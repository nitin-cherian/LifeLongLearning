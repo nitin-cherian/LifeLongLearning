{
 "cells": [
  {
   "cell_type": "code",
   "execution_count": 3,
   "metadata": {
    "collapsed": true
   },
   "outputs": [],
   "source": [
    "def negate(matrix):\n",
    "    \"\"\" Function that accepts a list of lists of numbers and \n",
    "    returns a new list of lists with each of the numbers negated\n",
    "    \"\"\"\n",
    "    return [[-e for e in row] for row in matrix]"
   ]
  },
  {
   "cell_type": "code",
   "execution_count": 4,
   "metadata": {
    "collapsed": false
   },
   "outputs": [
    {
     "name": "stderr",
     "output_type": "stream",
     "text": [
      ".......\n",
      "----------------------------------------------------------------------\n",
      "Ran 7 tests in 0.002s\n",
      "\n",
      "OK\n"
     ]
    }
   ],
   "source": [
    "import unittest\n",
    "\n",
    "class NegateTests(unittest.TestCase):\n",
    "\n",
    "    \"\"\"Tests for negate.\"\"\"\n",
    "\n",
    "    def test_empty(self):\n",
    "        self.assertEqual(negate([[]]), [[]])\n",
    "\n",
    "    def test_single_item(self):\n",
    "        self.assertEqual(negate([[5]]), [[-5]])\n",
    "\n",
    "    def test_two_by_two_matrix(self):\n",
    "        inputs = [[1, 2], [3, 4]]\n",
    "        outputs = [[-1, -2], [-3, -4]]\n",
    "        self.assertEqual(negate(inputs), outputs)\n",
    "\n",
    "    def test_two_by_three_matrix(self):\n",
    "        inputs = [[1, 2, 3], [4, 5, 6]]\n",
    "        outputs = [[-1, -2, -3], [-4, -5, -6]]\n",
    "        self.assertEqual(negate(inputs), outputs)\n",
    "\n",
    "    def test_three_by_two_matrix(self):\n",
    "        inputs = [[1, 2], [3, 4], [5, 6]]\n",
    "        outputs = [[-1, -2], [-3, -4], [-5, -6]]\n",
    "        self.assertEqual(negate(inputs), outputs)\n",
    "\n",
    "    def test_three_by_three_matrix(self):\n",
    "        inputs = [[1, 2, 3], [4, 5, 6], [7, 8, 9]]\n",
    "        outputs = [[-1, -2, -3], [-4, -5, -6], [-7, -8, -9]]\n",
    "        self.assertEqual(negate(inputs), outputs)\n",
    "\n",
    "    def test_negative_numbers(self):\n",
    "        inputs = [[1, -2, 3], [-4, 5, -6], [7, -8, 9]]\n",
    "        outputs = [[-1, 2, -3], [4, -5, 6], [-7, 8, -9]]\n",
    "        self.assertEqual(negate(inputs), outputs)\n",
    "\n",
    "\n",
    "if __name__ == \"__main__\":\n",
    "    unittest.main(argv=['first-arg-is-ignored'], exit=False)"
   ]
  },
  {
   "cell_type": "code",
   "execution_count": null,
   "metadata": {
    "collapsed": true
   },
   "outputs": [],
   "source": []
  }
 ],
 "metadata": {
  "kernelspec": {
   "display_name": "Python 3",
   "language": "python",
   "name": "python3"
  },
  "language_info": {
   "codemirror_mode": {
    "name": "ipython",
    "version": 3
   },
   "file_extension": ".py",
   "mimetype": "text/x-python",
   "name": "python",
   "nbconvert_exporter": "python",
   "pygments_lexer": "ipython3",
   "version": "3.5.2"
  }
 },
 "nbformat": 4,
 "nbformat_minor": 0
}
