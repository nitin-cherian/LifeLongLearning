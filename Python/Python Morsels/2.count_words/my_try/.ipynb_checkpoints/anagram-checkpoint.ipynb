{
 "cells": [
  {
   "cell_type": "code",
   "execution_count": 16,
   "metadata": {
    "collapsed": true
   },
   "outputs": [],
   "source": [
    "def count_words(sentence):\n",
    "    \"\"\"\n",
    "    Function that takes a string as argument and returns\n",
    "    a dictionary which has words as the keys and the number\n",
    "    of times each word was seen in the sentence as the value.\n",
    "    \"\"\"\n",
    "    \n",
    "    return {word:sentence.count(word) for word in sentence.lower().split()}"
   ]
  },
  {
   "cell_type": "code",
   "execution_count": 21,
   "metadata": {
    "collapsed": false
   },
   "outputs": [
    {
     "data": {
      "text/plain": [
       "{'a': 6, 'day': 2, 'lovely': 1, 'oh': 1, 'what': 2}"
      ]
     },
     "execution_count": 21,
     "metadata": {},
     "output_type": "execute_result"
    }
   ],
   "source": [
    "count_words(\"oh what a day what a lovely day\")   # wrong: 'a' is counted for the whole sentence"
   ]
  },
  {
   "cell_type": "code",
   "execution_count": 22,
   "metadata": {
    "collapsed": false
   },
   "outputs": [
    {
     "data": {
      "text/plain": [
       "{'believing': 1, \"don't\": 1, 'stop': 1}"
      ]
     },
     "execution_count": 22,
     "metadata": {},
     "output_type": "execute_result"
    }
   ],
   "source": [
    "count_words(\"don't stop believing\")"
   ]
  },
  {
   "cell_type": "code",
   "execution_count": 19,
   "metadata": {
    "collapsed": false
   },
   "outputs": [
    {
     "data": {
      "text/plain": [
       "{'a': 6, 'day': 2, 'lovely': 1, 'oh': 0, 'what': 2}"
      ]
     },
     "execution_count": 19,
     "metadata": {},
     "output_type": "execute_result"
    }
   ],
   "source": [
    "count_words(\"Oh what a day what a lovely day\")  # wrong: 'oh' does not seem to be counted"
   ]
  },
  {
   "cell_type": "code",
   "execution_count": 23,
   "metadata": {
    "collapsed": false
   },
   "outputs": [
    {
     "data": {
      "text/plain": [
       "{'a': 6, 'day!': 1, 'day,': 1, 'lovely': 1, 'oh': 0, 'what': 2}"
      ]
     },
     "execution_count": 23,
     "metadata": {},
     "output_type": "execute_result"
    }
   ],
   "source": [
    "count_words(\"Oh what a day, what a lovely day!\")  # wrong: day! and day, are counted as different"
   ]
  },
  {
   "cell_type": "markdown",
   "metadata": {},
   "source": [
    "## Refining #1: Considering mixed case words"
   ]
  },
  {
   "cell_type": "code",
   "execution_count": 24,
   "metadata": {
    "collapsed": true
   },
   "outputs": [],
   "source": [
    "def count_words(sentence):\n",
    "    \"\"\"\n",
    "    Function that takes a string as argument and returns\n",
    "    a dictionary which has words as the keys and the number\n",
    "    of times each word was seen in the sentence as the value.\n",
    "    \"\"\"\n",
    "    \n",
    "    words = sentence.lower().split()\n",
    "    return {word:words.count(word) for word in words}"
   ]
  },
  {
   "cell_type": "code",
   "execution_count": 25,
   "metadata": {
    "collapsed": false
   },
   "outputs": [
    {
     "data": {
      "text/plain": [
       "{'a': 2, 'day': 2, 'lovely': 1, 'oh': 1, 'what': 2}"
      ]
     },
     "execution_count": 25,
     "metadata": {},
     "output_type": "execute_result"
    }
   ],
   "source": [
    "count_words(\"oh what a day what a lovely day\")"
   ]
  },
  {
   "cell_type": "code",
   "execution_count": 26,
   "metadata": {
    "collapsed": false
   },
   "outputs": [
    {
     "data": {
      "text/plain": [
       "{'believing': 1, \"don't\": 1, 'stop': 1}"
      ]
     },
     "execution_count": 26,
     "metadata": {},
     "output_type": "execute_result"
    }
   ],
   "source": [
    "count_words(\"don't stop believing\")"
   ]
  },
  {
   "cell_type": "code",
   "execution_count": 27,
   "metadata": {
    "collapsed": false
   },
   "outputs": [
    {
     "data": {
      "text/plain": [
       "{'a': 2, 'day': 2, 'lovely': 1, 'oh': 1, 'what': 2}"
      ]
     },
     "execution_count": 27,
     "metadata": {},
     "output_type": "execute_result"
    }
   ],
   "source": [
    "count_words(\"Oh what a day what a lovely day\")"
   ]
  },
  {
   "cell_type": "code",
   "execution_count": 28,
   "metadata": {
    "collapsed": false
   },
   "outputs": [
    {
     "data": {
      "text/plain": [
       "{'a': 2, 'day!': 1, 'day,': 1, 'lovely': 1, 'oh': 1, 'what': 2}"
      ]
     },
     "execution_count": 28,
     "metadata": {},
     "output_type": "execute_result"
    }
   ],
   "source": [
    "count_words(\"Oh what a day, what a lovely day!\")  # wrong: day! and day, are counted as different"
   ]
  },
  {
   "cell_type": "markdown",
   "metadata": {},
   "source": [
    "### Experiments"
   ]
  },
  {
   "cell_type": "code",
   "execution_count": 30,
   "metadata": {
    "collapsed": false
   },
   "outputs": [],
   "source": [
    "import string"
   ]
  },
  {
   "cell_type": "code",
   "execution_count": 31,
   "metadata": {
    "collapsed": false
   },
   "outputs": [
    {
     "data": {
      "text/plain": [
       "'!\"#$%&\\'()*+,-./:;<=>?@[\\\\]^_`{|}~'"
      ]
     },
     "execution_count": 31,
     "metadata": {},
     "output_type": "execute_result"
    }
   ],
   "source": [
    "string.punctuation"
   ]
  },
  {
   "cell_type": "markdown",
   "metadata": {},
   "source": [
    "## Refining #2: Ignoring punctuations outside of words"
   ]
  },
  {
   "cell_type": "code",
   "execution_count": 40,
   "metadata": {
    "collapsed": true
   },
   "outputs": [],
   "source": [
    "def count_words(sentence):\n",
    "    \"\"\"\n",
    "    Function that takes a string as argument and returns\n",
    "    a dictionary which has words as the keys and the number\n",
    "    of times each word was seen in the sentence as the value.\n",
    "    \"\"\"\n",
    "    \n",
    "    words = sentence.lower().split()\n",
    "    words = [word.strip(string.punctuation) for word in words]   # Removing punctuations outside of words\n",
    "    return {word:words.count(word) for word in words}"
   ]
  },
  {
   "cell_type": "code",
   "execution_count": 41,
   "metadata": {
    "collapsed": false
   },
   "outputs": [
    {
     "data": {
      "text/plain": [
       "{'a': 2, 'day': 2, 'lovely': 1, 'oh': 1, 'what': 2}"
      ]
     },
     "execution_count": 41,
     "metadata": {},
     "output_type": "execute_result"
    }
   ],
   "source": [
    "count_words(\"oh what a day what a lovely day\")"
   ]
  },
  {
   "cell_type": "code",
   "execution_count": 42,
   "metadata": {
    "collapsed": false
   },
   "outputs": [
    {
     "data": {
      "text/plain": [
       "{'believing': 1, \"don't\": 1, 'stop': 1}"
      ]
     },
     "execution_count": 42,
     "metadata": {},
     "output_type": "execute_result"
    }
   ],
   "source": [
    "count_words(\"don't stop believing\")"
   ]
  },
  {
   "cell_type": "code",
   "execution_count": 43,
   "metadata": {
    "collapsed": false
   },
   "outputs": [
    {
     "data": {
      "text/plain": [
       "{'a': 2, 'day': 2, 'lovely': 1, 'oh': 1, 'what': 2}"
      ]
     },
     "execution_count": 43,
     "metadata": {},
     "output_type": "execute_result"
    }
   ],
   "source": [
    "count_words(\"Oh what a day what a lovely day\")"
   ]
  },
  {
   "cell_type": "code",
   "execution_count": 44,
   "metadata": {
    "collapsed": false
   },
   "outputs": [
    {
     "data": {
      "text/plain": [
       "{'a': 2, 'day': 2, 'lovely': 1, 'oh': 1, 'what': 2}"
      ]
     },
     "execution_count": 44,
     "metadata": {},
     "output_type": "execute_result"
    }
   ],
   "source": [
    "count_words(\"Oh what a day, what a lovely day!\")"
   ]
  },
  {
   "cell_type": "code",
   "execution_count": 45,
   "metadata": {
    "collapsed": false
   },
   "outputs": [
    {
     "name": "stderr",
     "output_type": "stream",
     "text": [
      "....\n",
      "----------------------------------------------------------------------\n",
      "Ran 4 tests in 0.003s\n",
      "\n",
      "OK\n"
     ]
    }
   ],
   "source": [
    "import unittest\n",
    "\n",
    "\n",
    "class CountWordsTests(unittest.TestCase):\n",
    "\n",
    "    \"\"\"Tests for count_words.\"\"\"\n",
    "\n",
    "    def test_simple_sentence(self):\n",
    "        actual = count_words(\"oh what a day what a lovely day\")\n",
    "        expected = {'oh': 1, 'what': 2, 'a': 2, 'day': 2, 'lovely': 1}\n",
    "        self.assertEqual(actual, expected)\n",
    "\n",
    "    def test_apostrophe(self):\n",
    "        actual = count_words(\"don't stop believing\")\n",
    "        expected = {\"don't\": 1, 'stop': 1, 'believing': 1}\n",
    "        self.assertEqual(actual, expected)\n",
    "\n",
    "    # To test the Bonus part of this exercise, comment out the following line\n",
    "    #@unittest.expectedFailure\n",
    "    def test_capitalization(self):\n",
    "        actual = count_words(\"Oh what a day what a lovely day\")\n",
    "        expected = {'oh': 1, 'what': 2, 'a': 2, 'day': 2, 'lovely': 1}\n",
    "        self.assertEqual(actual, expected)\n",
    "\n",
    "    # To test the Bonus part of this exercise, comment out the following line\n",
    "    #@unittest.expectedFailure\n",
    "    def test_symbols(self):\n",
    "        actual = count_words(\"Oh what a day, what a lovely day!\")\n",
    "        expected = {'oh': 1, 'what': 2, 'a': 2, 'day': 2, 'lovely': 1}\n",
    "        self.assertEqual(actual, expected)\n",
    "\n",
    "\n",
    "if __name__ == \"__main__\":\n",
    "    unittest.main(argv=['first-arg-is-ignored'], exit=False)"
   ]
  },
  {
   "cell_type": "code",
   "execution_count": null,
   "metadata": {
    "collapsed": true
   },
   "outputs": [],
   "source": []
  }
 ],
 "metadata": {
  "kernelspec": {
   "display_name": "Python 3",
   "language": "python",
   "name": "python3"
  },
  "language_info": {
   "codemirror_mode": {
    "name": "ipython",
    "version": 3
   },
   "file_extension": ".py",
   "mimetype": "text/x-python",
   "name": "python",
   "nbconvert_exporter": "python",
   "pygments_lexer": "ipython3",
   "version": "3.5.2"
  }
 },
 "nbformat": 4,
 "nbformat_minor": 0
}
