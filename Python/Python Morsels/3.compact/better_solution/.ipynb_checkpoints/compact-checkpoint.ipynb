{
 "cells": [
  {
   "cell_type": "code",
   "execution_count": 4,
   "metadata": {
    "collapsed": true
   },
   "outputs": [],
   "source": [
    "def compact(iterable):\n",
    "    \"\"\"Return new iterable with adjacent duplicate values removed.\"\"\"\n",
    "    current = object()\n",
    "    \n",
    "    for e in iterable:\n",
    "        if e != current:\n",
    "            current = e\n",
    "            yield e"
   ]
  },
  {
   "cell_type": "code",
   "execution_count": 5,
   "metadata": {
    "collapsed": false
   },
   "outputs": [
    {
     "name": "stderr",
     "output_type": "stream",
     "text": [
      "........\n",
      "----------------------------------------------------------------------\n",
      "Ran 8 tests in 0.004s\n",
      "\n",
      "OK\n"
     ]
    }
   ],
   "source": [
    "import unittest\n",
    "\n",
    "class CompactTests(unittest.TestCase):\n",
    "\n",
    "    \"\"\"Tests for compact.\"\"\"\n",
    "\n",
    "    def assertIterableEqual(self, iterable1, iterable2):\n",
    "        self.assertEqual(list(iterable1), list(iterable2))\n",
    "\n",
    "    def test_no_duplicates(self):\n",
    "        self.assertIterableEqual(compact([1, 2, 3]), [1, 2, 3])\n",
    "\n",
    "    def test_adjacent_duplicates(self):\n",
    "        self.assertIterableEqual(compact([1, 1, 2, 2, 3]), [1, 2, 3])\n",
    "\n",
    "    def test_non_adjacent_duplicates(self):\n",
    "        self.assertIterableEqual(compact([1, 2, 3, 1, 2]), [1, 2, 3, 1, 2])\n",
    "\n",
    "    def test_lots_of_adjacent_duplicates(self):\n",
    "        self.assertIterableEqual(compact([1, 1, 1, 1, 1, 1]), [1])\n",
    "\n",
    "    def test_empty_values(self):\n",
    "        self.assertIterableEqual(compact([None, 0, \"\", []]), [None, 0, \"\", []])\n",
    "\n",
    "    def test_empty_list(self):\n",
    "        self.assertIterableEqual(compact([]), [])\n",
    "\n",
    "    # To test the Bonus part of this exercise, comment out the following line\n",
    "    # @unittest.expectedFailure\n",
    "    def test_accepts_iterator(self):\n",
    "        nums = (n**2 for n in [1, 2, 3])\n",
    "        self.assertIterableEqual(compact(nums), [1, 4, 9])\n",
    "\n",
    "    # To test the Bonus part of this exercise, comment out the following line\n",
    "    # @unittest.expectedFailure\n",
    "    def test_returns_iterator(self):\n",
    "        output = compact([1, 2, 3])\n",
    "        self.assertEqual(iter(output), iter(output))\n",
    "        \n",
    "if __name__ == \"__main__\":\n",
    "    unittest.main(argv=['first-arg-is-ignored'], exit=False)"
   ]
  },
  {
   "cell_type": "markdown",
   "metadata": {},
   "source": [
    "# Key Takeaways\n",
    "\n",
    "1. object() - This will give an unique object, which can used instead of None"
   ]
  },
  {
   "cell_type": "markdown",
   "metadata": {},
   "source": [
    "## Another solution: Will not work for iterator objects passed as parameters\n",
    "\n",
    "### Reason: the *items will consume the iterator"
   ]
  },
  {
   "cell_type": "code",
   "execution_count": 28,
   "metadata": {
    "collapsed": false
   },
   "outputs": [],
   "source": [
    "def compact(items):\n",
    "    \"\"\"Return new iterable with adjacent duplicate values removed.\"\"\"\n",
    "    for item, prev in zip(items, [object(), *items]):       \n",
    "        if item != prev:\n",
    "            yield item    \n",
    "        "
   ]
  },
  {
   "cell_type": "markdown",
   "metadata": {},
   "source": [
    "### Note the neat trick of shifting the items by 1 and then using the zip function to compare elements of the iterable"
   ]
  },
  {
   "cell_type": "code",
   "execution_count": 29,
   "metadata": {
    "collapsed": false
   },
   "outputs": [
    {
     "name": "stderr",
     "output_type": "stream",
     "text": [
      "x.......\n",
      "----------------------------------------------------------------------\n",
      "Ran 8 tests in 0.004s\n",
      "\n",
      "OK (expected failures=1)\n"
     ]
    }
   ],
   "source": [
    "import unittest\n",
    "\n",
    "class CompactTests(unittest.TestCase):\n",
    "\n",
    "    \"\"\"Tests for compact.\"\"\"\n",
    "\n",
    "    def assertIterableEqual(self, iterable1, iterable2):\n",
    "        self.assertEqual(list(iterable1), list(iterable2))\n",
    "\n",
    "    def test_no_duplicates(self):\n",
    "        self.assertIterableEqual(compact([1, 2, 3]), [1, 2, 3])\n",
    "\n",
    "    def test_adjacent_duplicates(self):\n",
    "        self.assertIterableEqual(compact([1, 1, 2, 2, 3]), [1, 2, 3])\n",
    "\n",
    "    def test_non_adjacent_duplicates(self):\n",
    "        self.assertIterableEqual(compact([1, 2, 3, 1, 2]), [1, 2, 3, 1, 2])\n",
    "\n",
    "    def test_lots_of_adjacent_duplicates(self):\n",
    "        self.assertIterableEqual(compact([1, 1, 1, 1, 1, 1]), [1])\n",
    "\n",
    "    def test_empty_values(self):\n",
    "        self.assertIterableEqual(compact([None, 0, \"\", []]), [None, 0, \"\", []])\n",
    "\n",
    "    def test_empty_list(self):\n",
    "        self.assertIterableEqual(compact([]), [])\n",
    "\n",
    "    # To test the Bonus part of this exercise, comment out the following line\n",
    "    @unittest.expectedFailure\n",
    "    def test_accepts_iterator(self):\n",
    "        nums = (n**2 for n in [1, 2, 3])\n",
    "        self.assertIterableEqual(compact(nums), [1, 4, 9])\n",
    "\n",
    "    # To test the Bonus part of this exercise, comment out the following line\n",
    "    # @unittest.expectedFailure\n",
    "    def test_returns_iterator(self):\n",
    "        output = compact([1, 2, 3])\n",
    "        self.assertEqual(iter(output), iter(output))\n",
    "        \n",
    "if __name__ == \"__main__\":\n",
    "    unittest.main(argv=['first-arg-is-ignored'], exit=False)"
   ]
  },
  {
   "cell_type": "code",
   "execution_count": null,
   "metadata": {
    "collapsed": true
   },
   "outputs": [],
   "source": []
  }
 ],
 "metadata": {
  "kernelspec": {
   "display_name": "Python 3",
   "language": "python",
   "name": "python3"
  },
  "language_info": {
   "codemirror_mode": {
    "name": "ipython",
    "version": 3
   },
   "file_extension": ".py",
   "mimetype": "text/x-python",
   "name": "python",
   "nbconvert_exporter": "python",
   "pygments_lexer": "ipython3",
   "version": "3.5.2"
  }
 },
 "nbformat": 4,
 "nbformat_minor": 0
}
