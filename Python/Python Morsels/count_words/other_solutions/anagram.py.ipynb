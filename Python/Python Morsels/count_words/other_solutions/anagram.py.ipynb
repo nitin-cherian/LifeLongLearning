{
 "cells": [
  {
   "cell_type": "code",
   "execution_count": 7,
   "metadata": {
    "collapsed": true
   },
   "outputs": [],
   "source": [
    "from collections import Counter\n",
    "import re\n",
    "import string"
   ]
  },
  {
   "cell_type": "code",
   "execution_count": 9,
   "metadata": {
    "collapsed": true
   },
   "outputs": [],
   "source": [
    "def count_words(sentence):\n",
    "    words = sentence.lower().split()\n",
    "    words = [word.strip(string.punctuation) for word in words]\n",
    "    return Counter(words)"
   ]
  },
  {
   "cell_type": "code",
   "execution_count": 10,
   "metadata": {
    "collapsed": false
   },
   "outputs": [
    {
     "name": "stderr",
     "output_type": "stream",
     "text": [
      "....\n",
      "----------------------------------------------------------------------\n",
      "Ran 4 tests in 0.002s\n",
      "\n",
      "OK\n"
     ]
    }
   ],
   "source": [
    "import unittest\n",
    "\n",
    "\n",
    "class CountWordsTests(unittest.TestCase):\n",
    "\n",
    "    \"\"\"Tests for count_words.\"\"\"\n",
    "\n",
    "    def test_simple_sentence(self):\n",
    "        actual = count_words(\"oh what a day what a lovely day\")\n",
    "        expected = {'oh': 1, 'what': 2, 'a': 2, 'day': 2, 'lovely': 1}\n",
    "        self.assertEqual(actual, expected)\n",
    "\n",
    "    def test_apostrophe(self):\n",
    "        actual = count_words(\"don't stop believing\")\n",
    "        expected = {\"don't\": 1, 'stop': 1, 'believing': 1}\n",
    "        self.assertEqual(actual, expected)\n",
    "\n",
    "    # To test the Bonus part of this exercise, comment out the following line\n",
    "    #@unittest.expectedFailure\n",
    "    def test_capitalization(self):\n",
    "        actual = count_words(\"Oh what a day what a lovely day\")\n",
    "        expected = {'oh': 1, 'what': 2, 'a': 2, 'day': 2, 'lovely': 1}\n",
    "        self.assertEqual(actual, expected)\n",
    "\n",
    "    # To test the Bonus part of this exercise, comment out the following line\n",
    "    #@unittest.expectedFailure\n",
    "    def test_symbols(self):\n",
    "        actual = count_words(\"Oh what a day, what a lovely day!\")\n",
    "        expected = {'oh': 1, 'what': 2, 'a': 2, 'day': 2, 'lovely': 1}\n",
    "        self.assertEqual(actual, expected)\n",
    "\n",
    "\n",
    "if __name__ == \"__main__\":\n",
    "    unittest.main(argv=['first-arg-is-ignored'], exit=False)"
   ]
  },
  {
   "cell_type": "code",
   "execution_count": 15,
   "metadata": {
    "collapsed": true
   },
   "outputs": [],
   "source": [
    "def count_words(sentence):\n",
    "    words = re.findall(r\"[\\w'-]+\", sentence.lower())  # Find all words that contains digits, alphabets, _(w) and \"'-\"\n",
    "    print(words)\n",
    "    return Counter(words)"
   ]
  },
  {
   "cell_type": "code",
   "execution_count": 16,
   "metadata": {
    "collapsed": false
   },
   "outputs": [
    {
     "name": "stderr",
     "output_type": "stream",
     "text": [
      "...."
     ]
    },
    {
     "name": "stdout",
     "output_type": "stream",
     "text": [
      "[\"don't\", 'stop', 'believing']\n",
      "['oh', 'what', 'a', 'day', 'what', 'a', 'lovely', 'day']\n",
      "['oh', 'what', 'a', 'day', 'what', 'a', 'lovely', 'day']\n",
      "['oh', 'what', 'a', 'day', 'what', 'a', 'lovely', 'day']\n"
     ]
    },
    {
     "name": "stderr",
     "output_type": "stream",
     "text": [
      "\n",
      "----------------------------------------------------------------------\n",
      "Ran 4 tests in 0.003s\n",
      "\n",
      "OK\n"
     ]
    }
   ],
   "source": [
    "import unittest\n",
    "\n",
    "\n",
    "class CountWordsTests(unittest.TestCase):\n",
    "\n",
    "    \"\"\"Tests for count_words.\"\"\"\n",
    "\n",
    "    def test_simple_sentence(self):\n",
    "        actual = count_words(\"oh what a day what a lovely day\")\n",
    "        expected = {'oh': 1, 'what': 2, 'a': 2, 'day': 2, 'lovely': 1}\n",
    "        self.assertEqual(actual, expected)\n",
    "\n",
    "    def test_apostrophe(self):\n",
    "        actual = count_words(\"don't stop believing\")\n",
    "        expected = {\"don't\": 1, 'stop': 1, 'believing': 1}\n",
    "        self.assertEqual(actual, expected)\n",
    "\n",
    "    # To test the Bonus part of this exercise, comment out the following line\n",
    "    #@unittest.expectedFailure\n",
    "    def test_capitalization(self):\n",
    "        actual = count_words(\"Oh what a day what a lovely day\")\n",
    "        expected = {'oh': 1, 'what': 2, 'a': 2, 'day': 2, 'lovely': 1}\n",
    "        self.assertEqual(actual, expected)\n",
    "\n",
    "    # To test the Bonus part of this exercise, comment out the following line\n",
    "    #@unittest.expectedFailure\n",
    "    def test_symbols(self):\n",
    "        actual = count_words(\"Oh what a day, what a lovely day!\")\n",
    "        expected = {'oh': 1, 'what': 2, 'a': 2, 'day': 2, 'lovely': 1}\n",
    "        self.assertEqual(actual, expected)\n",
    "\n",
    "\n",
    "if __name__ == \"__main__\":\n",
    "    unittest.main(argv=['first-arg-is-ignored'], exit=False)"
   ]
  },
  {
   "cell_type": "markdown",
   "metadata": {},
   "source": [
    "# Key Takeaways\n",
    "\n",
    "### 1. Using Counter() to count the items\n",
    "### 2. Using re.findall() to "
   ]
  }
 ],
 "metadata": {
  "kernelspec": {
   "display_name": "Python 3",
   "language": "python",
   "name": "python3"
  },
  "language_info": {
   "codemirror_mode": {
    "name": "ipython",
    "version": 3
   },
   "file_extension": ".py",
   "mimetype": "text/x-python",
   "name": "python",
   "nbconvert_exporter": "python",
   "pygments_lexer": "ipython3",
   "version": "3.5.2"
  }
 },
 "nbformat": 4,
 "nbformat_minor": 0
}
