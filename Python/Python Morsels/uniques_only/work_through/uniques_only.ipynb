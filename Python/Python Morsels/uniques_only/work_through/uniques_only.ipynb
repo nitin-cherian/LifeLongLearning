{
 "cells": [
  {
   "cell_type": "code",
   "execution_count": 1,
   "metadata": {
    "collapsed": true
   },
   "outputs": [],
   "source": [
    "def uniques_only(iterable):\n",
    "    \"\"\"\n",
    "    Returns an iterable in the same order with duplicates removed\n",
    "    \"\"\"\n",
    "    seen = set()\n",
    "    for item in iterable:\n",
    "        if item not in seen:\n",
    "            yield item\n",
    "            seen.add(item)"
   ]
  },
  {
   "cell_type": "code",
   "execution_count": 3,
   "metadata": {
    "collapsed": false
   },
   "outputs": [
    {
     "name": "stderr",
     "output_type": "stream",
     "text": [
      ".E.E....\n",
      "======================================================================\n",
      "ERROR: test_accepts_nonhashable_types (__main__.UniquesOnlyTests)\n",
      "----------------------------------------------------------------------\n",
      "Traceback (most recent call last):\n",
      "  File \"<ipython-input-3-3095761db9d3>\", line 40, in test_accepts_nonhashable_types\n",
      "    self.assertIterableEqual(output, [[1, 2], [3], [1]])\n",
      "  File \"<ipython-input-3-3095761db9d3>\", line 9, in assertIterableEqual\n",
      "    self.assertEqual(list(iterable1), list(iterable2))\n",
      "  File \"<ipython-input-1-f582a8f3ce27>\", line 7, in uniques_only\n",
      "    if item not in seen:\n",
      "TypeError: unhashable type: 'list'\n",
      "\n",
      "======================================================================\n",
      "ERROR: test_hashable_types_faster (__main__.UniquesOnlyTests)\n",
      "----------------------------------------------------------------------\n",
      "Traceback (most recent call last):\n",
      "  File \"<ipython-input-3-3095761db9d3>\", line 51, in test_hashable_types_faster\n",
      "    for _ in uniques_only(unhashables):\n",
      "  File \"<ipython-input-1-f582a8f3ce27>\", line 7, in uniques_only\n",
      "    if item not in seen:\n",
      "TypeError: unhashable type: 'list'\n",
      "\n",
      "----------------------------------------------------------------------\n",
      "Ran 8 tests in 0.026s\n",
      "\n",
      "FAILED (errors=2)\n"
     ]
    }
   ],
   "source": [
    "from timeit import default_timer\n",
    "import unittest\n",
    "\n",
    "class UniquesOnlyTests(unittest.TestCase):\n",
    "\n",
    "    \"\"\"Tests for uniques_only.\"\"\"\n",
    "\n",
    "    def assertIterableEqual(self, iterable1, iterable2):\n",
    "        self.assertEqual(list(iterable1), list(iterable2))\n",
    "\n",
    "    def test_no_duplicates(self):\n",
    "        self.assertIterableEqual(uniques_only([1, 2, 3]), [1, 2, 3])\n",
    "\n",
    "    def test_adjacent_duplicates(self):\n",
    "        self.assertIterableEqual(uniques_only([1, 1, 2, 2, 3]), [1, 2, 3])\n",
    "\n",
    "    def test_non_adjacent_duplicates(self):\n",
    "        self.assertIterableEqual(uniques_only([1, 2, 3, 1, 2]), [1, 2, 3])\n",
    "\n",
    "    def test_lots_of_duplicates(self):\n",
    "        self.assertIterableEqual(uniques_only([1, 2, 2, 1, 1, 2, 1]), [1, 2])\n",
    "\n",
    "    def test_accepts_iterator(self):\n",
    "        nums = (n**2 for n in [1, 2, 3])\n",
    "        self.assertIterableEqual(uniques_only(nums), [1, 4, 9])\n",
    "\n",
    "    # To test the Bonus part of this exercise, comment out the following line\n",
    "    # @unittest.expectedFailure\n",
    "    def test_returns_iterator(self):\n",
    "        nums = iter([1, 2, 3])\n",
    "        output = uniques_only(nums)\n",
    "        self.assertEqual(iter(output), iter(output))\n",
    "        self.assertEqual(next(output), 1)\n",
    "        self.assertEqual(next(nums), 2)\n",
    "\n",
    "    # To test the Bonus part of this exercise, comment out the following line\n",
    "    # @unittest.expectedFailure\n",
    "    def test_accepts_nonhashable_types(self):\n",
    "        output = uniques_only([[1, 2], [3], [1], [3]])\n",
    "        self.assertIterableEqual(output, [[1, 2], [3], [1]])\n",
    "\n",
    "    # To test the Bonus part of this exercise, comment out the following line\n",
    "    # @unittest.expectedFailure\n",
    "    def test_hashable_types_faster(self):\n",
    "        hashables = [(n,) for n in range(4000)] + [0]\n",
    "        unhashables = [[n] for n in range(4000)] + [0]\n",
    "        with Timer() as hashable:\n",
    "            for _ in uniques_only(hashables):\n",
    "                pass\n",
    "        with Timer() as unhashable:\n",
    "            for _ in uniques_only(unhashables):\n",
    "                pass\n",
    "        self.assertLess(hashable.elapsed * 5, unhashable.elapsed)\n",
    "\n",
    "\n",
    "class Timer:\n",
    "\n",
    "    \"\"\"Context manager to time a code block.\"\"\"\n",
    "\n",
    "    def __enter__(self):\n",
    "        self.start = default_timer()\n",
    "        return self\n",
    "\n",
    "    def __exit__(self, *args):\n",
    "        self.end = default_timer()\n",
    "        self.elapsed = self.end - self.start\n",
    "\n",
    "\n",
    "if __name__ == \"__main__\":\n",
    "    unittest.main(argv=['ignore-first-argument'], exit=False)"
   ]
  },
  {
   "cell_type": "markdown",
   "metadata": {},
   "source": [
    "### Note1: sets and dicts cannot take unhashable types like lists"
   ]
  },
  {
   "cell_type": "code",
   "execution_count": 4,
   "metadata": {
    "collapsed": true
   },
   "outputs": [],
   "source": [
    "tmp = set()"
   ]
  },
  {
   "cell_type": "code",
   "execution_count": 5,
   "metadata": {
    "collapsed": false
   },
   "outputs": [
    {
     "data": {
      "text/plain": [
       "False"
      ]
     },
     "execution_count": 5,
     "metadata": {},
     "output_type": "execute_result"
    }
   ],
   "source": [
    "1 in tmp"
   ]
  },
  {
   "cell_type": "code",
   "execution_count": 6,
   "metadata": {
    "collapsed": false
   },
   "outputs": [
    {
     "ename": "TypeError",
     "evalue": "unhashable type: 'list'",
     "output_type": "error",
     "traceback": [
      "\u001b[1;31m---------------------------------------------------------------------------\u001b[0m",
      "\u001b[1;31mTypeError\u001b[0m                                 Traceback (most recent call last)",
      "\u001b[1;32m<ipython-input-6-4128a7ea547b>\u001b[0m in \u001b[0;36m<module>\u001b[1;34m()\u001b[0m\n\u001b[1;32m----> 1\u001b[1;33m \u001b[1;33m[\u001b[0m\u001b[1;36m1\u001b[0m\u001b[1;33m]\u001b[0m \u001b[1;32min\u001b[0m \u001b[0mtmp\u001b[0m\u001b[1;33m\u001b[0m\u001b[0m\n\u001b[0m",
      "\u001b[1;31mTypeError\u001b[0m: unhashable type: 'list'"
     ]
    }
   ],
   "source": [
    "[1] in tmp"
   ]
  },
  {
   "cell_type": "code",
   "execution_count": 8,
   "metadata": {
    "collapsed": false
   },
   "outputs": [
    {
     "data": {
      "text/plain": [
       "{1}"
      ]
     },
     "execution_count": 8,
     "metadata": {},
     "output_type": "execute_result"
    }
   ],
   "source": [
    "tmp.add(1)\n",
    "tmp"
   ]
  },
  {
   "cell_type": "code",
   "execution_count": 9,
   "metadata": {
    "collapsed": false
   },
   "outputs": [
    {
     "ename": "TypeError",
     "evalue": "unhashable type: 'list'",
     "output_type": "error",
     "traceback": [
      "\u001b[1;31m---------------------------------------------------------------------------\u001b[0m",
      "\u001b[1;31mTypeError\u001b[0m                                 Traceback (most recent call last)",
      "\u001b[1;32m<ipython-input-9-b2ea92368345>\u001b[0m in \u001b[0;36m<module>\u001b[1;34m()\u001b[0m\n\u001b[1;32m----> 1\u001b[1;33m \u001b[0mtmp\u001b[0m\u001b[1;33m.\u001b[0m\u001b[0madd\u001b[0m\u001b[1;33m(\u001b[0m\u001b[1;33m[\u001b[0m\u001b[1;36m1\u001b[0m\u001b[1;33m]\u001b[0m\u001b[1;33m)\u001b[0m\u001b[1;33m\u001b[0m\u001b[0m\n\u001b[0m",
      "\u001b[1;31mTypeError\u001b[0m: unhashable type: 'list'"
     ]
    }
   ],
   "source": [
    "tmp.add([1])"
   ]
  },
  {
   "cell_type": "code",
   "execution_count": 11,
   "metadata": {
    "collapsed": false
   },
   "outputs": [
    {
     "data": {
      "text/plain": [
       "{1}"
      ]
     },
     "execution_count": 11,
     "metadata": {},
     "output_type": "execute_result"
    }
   ],
   "source": [
    "tmp = set([1])\n",
    "tmp"
   ]
  },
  {
   "cell_type": "markdown",
   "metadata": {},
   "source": [
    "### So we may use a list instead of set like so:"
   ]
  },
  {
   "cell_type": "code",
   "execution_count": 14,
   "metadata": {
    "collapsed": true
   },
   "outputs": [],
   "source": [
    "def uniques_only(iterable):\n",
    "    \"\"\"\n",
    "    Returns an iterable in the same order with duplicates removed\n",
    "    \"\"\"\n",
    "    seen = []\n",
    "    for item in iterable:\n",
    "        if item not in seen:\n",
    "            yield item\n",
    "            seen.append(item)"
   ]
  },
  {
   "cell_type": "code",
   "execution_count": 15,
   "metadata": {
    "collapsed": false
   },
   "outputs": [
    {
     "name": "stderr",
     "output_type": "stream",
     "text": [
      "...F....\n",
      "======================================================================\n",
      "FAIL: test_hashable_types_faster (__main__.UniquesOnlyTests)\n",
      "----------------------------------------------------------------------\n",
      "Traceback (most recent call last):\n",
      "  File \"<ipython-input-15-3095761db9d3>\", line 53, in test_hashable_types_faster\n",
      "    self.assertLess(hashable.elapsed * 5, unhashable.elapsed)\n",
      "AssertionError: 1.1137854112109835 not less than 0.19412242067392071\n",
      "\n",
      "----------------------------------------------------------------------\n",
      "Ran 8 tests in 0.494s\n",
      "\n",
      "FAILED (failures=1)\n"
     ]
    }
   ],
   "source": [
    "from timeit import default_timer\n",
    "import unittest\n",
    "\n",
    "class UniquesOnlyTests(unittest.TestCase):\n",
    "\n",
    "    \"\"\"Tests for uniques_only.\"\"\"\n",
    "\n",
    "    def assertIterableEqual(self, iterable1, iterable2):\n",
    "        self.assertEqual(list(iterable1), list(iterable2))\n",
    "\n",
    "    def test_no_duplicates(self):\n",
    "        self.assertIterableEqual(uniques_only([1, 2, 3]), [1, 2, 3])\n",
    "\n",
    "    def test_adjacent_duplicates(self):\n",
    "        self.assertIterableEqual(uniques_only([1, 1, 2, 2, 3]), [1, 2, 3])\n",
    "\n",
    "    def test_non_adjacent_duplicates(self):\n",
    "        self.assertIterableEqual(uniques_only([1, 2, 3, 1, 2]), [1, 2, 3])\n",
    "\n",
    "    def test_lots_of_duplicates(self):\n",
    "        self.assertIterableEqual(uniques_only([1, 2, 2, 1, 1, 2, 1]), [1, 2])\n",
    "\n",
    "    def test_accepts_iterator(self):\n",
    "        nums = (n**2 for n in [1, 2, 3])\n",
    "        self.assertIterableEqual(uniques_only(nums), [1, 4, 9])\n",
    "\n",
    "    # To test the Bonus part of this exercise, comment out the following line\n",
    "    # @unittest.expectedFailure\n",
    "    def test_returns_iterator(self):\n",
    "        nums = iter([1, 2, 3])\n",
    "        output = uniques_only(nums)\n",
    "        self.assertEqual(iter(output), iter(output))\n",
    "        self.assertEqual(next(output), 1)\n",
    "        self.assertEqual(next(nums), 2)\n",
    "\n",
    "    # To test the Bonus part of this exercise, comment out the following line\n",
    "    # @unittest.expectedFailure\n",
    "    def test_accepts_nonhashable_types(self):\n",
    "        output = uniques_only([[1, 2], [3], [1], [3]])\n",
    "        self.assertIterableEqual(output, [[1, 2], [3], [1]])\n",
    "\n",
    "    # To test the Bonus part of this exercise, comment out the following line\n",
    "    # @unittest.expectedFailure\n",
    "    def test_hashable_types_faster(self):\n",
    "        hashables = [(n,) for n in range(4000)] + [0]\n",
    "        unhashables = [[n] for n in range(4000)] + [0]\n",
    "        with Timer() as hashable:\n",
    "            for _ in uniques_only(hashables):\n",
    "                pass\n",
    "        with Timer() as unhashable:\n",
    "            for _ in uniques_only(unhashables):\n",
    "                pass\n",
    "        self.assertLess(hashable.elapsed * 5, unhashable.elapsed)\n",
    "\n",
    "\n",
    "class Timer:\n",
    "\n",
    "    \"\"\"Context manager to time a code block.\"\"\"\n",
    "\n",
    "    def __enter__(self):\n",
    "        self.start = default_timer()\n",
    "        return self\n",
    "\n",
    "    def __exit__(self, *args):\n",
    "        self.end = default_timer()\n",
    "        self.elapsed = self.end - self.start\n",
    "\n",
    "\n",
    "if __name__ == \"__main__\":\n",
    "    unittest.main(argv=['ignore-first-argument'], exit=False)"
   ]
  },
  {
   "cell_type": "markdown",
   "metadata": {},
   "source": [
    "### Note2:  Sets vs Lists. Checking for containment (X not in Y) in a list requires looping through the whole list. This is slow. Sets rely on hashes for lookups so containment checks won't slow down as our hash grows in size"
   ]
  },
  {
   "cell_type": "markdown",
   "metadata": {},
   "source": [
    "#### So we can use a list for unhashable types and set for hashable types like so:"
   ]
  },
  {
   "cell_type": "code",
   "execution_count": 16,
   "metadata": {
    "collapsed": true
   },
   "outputs": [],
   "source": [
    "def uniques_only(iterable):\n",
    "    \"\"\"\n",
    "    Returns an iterable in the same order with duplicates removed\n",
    "    \"\"\"\n",
    "    hashable_seen = set()\n",
    "    unhashable_seen = []\n",
    "    for item in iterable:\n",
    "        try:\n",
    "            if item not in hashable_seen:\n",
    "                yield item\n",
    "                hashable_seen.add(item)\n",
    "        except TypeError:\n",
    "            if item not in unhashable_seen:\n",
    "                yield item\n",
    "                unhashable_seen.append(item)"
   ]
  },
  {
   "cell_type": "code",
   "execution_count": 17,
   "metadata": {
    "collapsed": false
   },
   "outputs": [
    {
     "name": "stderr",
     "output_type": "stream",
     "text": [
      "........\n",
      "----------------------------------------------------------------------\n",
      "Ran 8 tests in 0.223s\n",
      "\n",
      "OK\n"
     ]
    }
   ],
   "source": [
    "from timeit import default_timer\n",
    "import unittest\n",
    "\n",
    "class UniquesOnlyTests(unittest.TestCase):\n",
    "\n",
    "    \"\"\"Tests for uniques_only.\"\"\"\n",
    "\n",
    "    def assertIterableEqual(self, iterable1, iterable2):\n",
    "        self.assertEqual(list(iterable1), list(iterable2))\n",
    "\n",
    "    def test_no_duplicates(self):\n",
    "        self.assertIterableEqual(uniques_only([1, 2, 3]), [1, 2, 3])\n",
    "\n",
    "    def test_adjacent_duplicates(self):\n",
    "        self.assertIterableEqual(uniques_only([1, 1, 2, 2, 3]), [1, 2, 3])\n",
    "\n",
    "    def test_non_adjacent_duplicates(self):\n",
    "        self.assertIterableEqual(uniques_only([1, 2, 3, 1, 2]), [1, 2, 3])\n",
    "\n",
    "    def test_lots_of_duplicates(self):\n",
    "        self.assertIterableEqual(uniques_only([1, 2, 2, 1, 1, 2, 1]), [1, 2])\n",
    "\n",
    "    def test_accepts_iterator(self):\n",
    "        nums = (n**2 for n in [1, 2, 3])\n",
    "        self.assertIterableEqual(uniques_only(nums), [1, 4, 9])\n",
    "\n",
    "    # To test the Bonus part of this exercise, comment out the following line\n",
    "    # @unittest.expectedFailure\n",
    "    def test_returns_iterator(self):\n",
    "        nums = iter([1, 2, 3])\n",
    "        output = uniques_only(nums)\n",
    "        self.assertEqual(iter(output), iter(output))\n",
    "        self.assertEqual(next(output), 1)\n",
    "        self.assertEqual(next(nums), 2)\n",
    "\n",
    "    # To test the Bonus part of this exercise, comment out the following line\n",
    "    # @unittest.expectedFailure\n",
    "    def test_accepts_nonhashable_types(self):\n",
    "        output = uniques_only([[1, 2], [3], [1], [3]])\n",
    "        self.assertIterableEqual(output, [[1, 2], [3], [1]])\n",
    "\n",
    "    # To test the Bonus part of this exercise, comment out the following line\n",
    "    # @unittest.expectedFailure\n",
    "    def test_hashable_types_faster(self):\n",
    "        hashables = [(n,) for n in range(4000)] + [0]\n",
    "        unhashables = [[n] for n in range(4000)] + [0]\n",
    "        with Timer() as hashable:\n",
    "            for _ in uniques_only(hashables):\n",
    "                pass\n",
    "        with Timer() as unhashable:\n",
    "            for _ in uniques_only(unhashables):\n",
    "                pass\n",
    "        self.assertLess(hashable.elapsed * 5, unhashable.elapsed)\n",
    "\n",
    "\n",
    "class Timer:\n",
    "\n",
    "    \"\"\"Context manager to time a code block.\"\"\"\n",
    "\n",
    "    def __enter__(self):\n",
    "        self.start = default_timer()\n",
    "        return self\n",
    "\n",
    "    def __exit__(self, *args):\n",
    "        self.end = default_timer()\n",
    "        self.elapsed = self.end - self.start\n",
    "\n",
    "\n",
    "if __name__ == \"__main__\":\n",
    "    unittest.main(argv=['ignore-first-argument'], exit=False)"
   ]
  },
  {
   "cell_type": "markdown",
   "metadata": {},
   "source": [
    "#### Above we are using 'TypeError' to identify whether an item is hashable or not. Instead we could use '  'isinstance' function to check if the item is hashable or not like so:\n"
   ]
  },
  {
   "cell_type": "code",
   "execution_count": 21,
   "metadata": {
    "collapsed": false
   },
   "outputs": [],
   "source": [
    "from collections.abc import Hashable\n",
    "\n",
    "def uniques_only(iterable):\n",
    "    \"\"\"\n",
    "    Returns an iterable in the same order with duplicates removed\n",
    "    \"\"\"\n",
    "    hashable_seen = set()\n",
    "    unhashable_seen = []\n",
    "    for item in iterable:\n",
    "        if isinstance(item, Hashable):\n",
    "            if item not in hashable_seen:\n",
    "                yield item\n",
    "                hashable_seen.add(item)\n",
    "        else:\n",
    "            if item not in unhashable_seen:\n",
    "                yield item\n",
    "                unhashable_seen.append(item)"
   ]
  },
  {
   "cell_type": "code",
   "execution_count": 22,
   "metadata": {
    "collapsed": false
   },
   "outputs": [
    {
     "name": "stderr",
     "output_type": "stream",
     "text": [
      "........\n",
      "----------------------------------------------------------------------\n",
      "Ran 8 tests in 0.232s\n",
      "\n",
      "OK\n"
     ]
    }
   ],
   "source": [
    "from timeit import default_timer\n",
    "import unittest\n",
    "\n",
    "class UniquesOnlyTests(unittest.TestCase):\n",
    "\n",
    "    \"\"\"Tests for uniques_only.\"\"\"\n",
    "\n",
    "    def assertIterableEqual(self, iterable1, iterable2):\n",
    "        self.assertEqual(list(iterable1), list(iterable2))\n",
    "\n",
    "    def test_no_duplicates(self):\n",
    "        self.assertIterableEqual(uniques_only([1, 2, 3]), [1, 2, 3])\n",
    "\n",
    "    def test_adjacent_duplicates(self):\n",
    "        self.assertIterableEqual(uniques_only([1, 1, 2, 2, 3]), [1, 2, 3])\n",
    "\n",
    "    def test_non_adjacent_duplicates(self):\n",
    "        self.assertIterableEqual(uniques_only([1, 2, 3, 1, 2]), [1, 2, 3])\n",
    "\n",
    "    def test_lots_of_duplicates(self):\n",
    "        self.assertIterableEqual(uniques_only([1, 2, 2, 1, 1, 2, 1]), [1, 2])\n",
    "\n",
    "    def test_accepts_iterator(self):\n",
    "        nums = (n**2 for n in [1, 2, 3])\n",
    "        self.assertIterableEqual(uniques_only(nums), [1, 4, 9])\n",
    "\n",
    "    # To test the Bonus part of this exercise, comment out the following line\n",
    "    # @unittest.expectedFailure\n",
    "    def test_returns_iterator(self):\n",
    "        nums = iter([1, 2, 3])\n",
    "        output = uniques_only(nums)\n",
    "        self.assertEqual(iter(output), iter(output))\n",
    "        self.assertEqual(next(output), 1)\n",
    "        self.assertEqual(next(nums), 2)\n",
    "\n",
    "    # To test the Bonus part of this exercise, comment out the following line\n",
    "    # @unittest.expectedFailure\n",
    "    def test_accepts_nonhashable_types(self):\n",
    "        output = uniques_only([[1, 2], [3], [1], [3]])\n",
    "        self.assertIterableEqual(output, [[1, 2], [3], [1]])\n",
    "\n",
    "    # To test the Bonus part of this exercise, comment out the following line\n",
    "    # @unittest.expectedFailure\n",
    "    def test_hashable_types_faster(self):\n",
    "        hashables = [(n,) for n in range(4000)] + [0]\n",
    "        unhashables = [[n] for n in range(4000)] + [0]\n",
    "        with Timer() as hashable:\n",
    "            for _ in uniques_only(hashables):\n",
    "                pass\n",
    "        with Timer() as unhashable:\n",
    "            for _ in uniques_only(unhashables):\n",
    "                pass\n",
    "        self.assertLess(hashable.elapsed * 5, unhashable.elapsed)\n",
    "\n",
    "\n",
    "class Timer:\n",
    "\n",
    "    \"\"\"Context manager to time a code block.\"\"\"\n",
    "\n",
    "    def __enter__(self):\n",
    "        self.start = default_timer()\n",
    "        return self\n",
    "\n",
    "    def __exit__(self, *args):\n",
    "        self.end = default_timer()\n",
    "        self.elapsed = self.end - self.start\n",
    "\n",
    "\n",
    "if __name__ == \"__main__\":\n",
    "    unittest.main(argv=['ignore-first-argument'], exit=False)"
   ]
  },
  {
   "cell_type": "code",
   "execution_count": null,
   "metadata": {
    "collapsed": true
   },
   "outputs": [],
   "source": []
  }
 ],
 "metadata": {
  "kernelspec": {
   "display_name": "Python 3",
   "language": "python",
   "name": "python3"
  },
  "language_info": {
   "codemirror_mode": {
    "name": "ipython",
    "version": 3
   },
   "file_extension": ".py",
   "mimetype": "text/x-python",
   "name": "python",
   "nbconvert_exporter": "python",
   "pygments_lexer": "ipython3",
   "version": "3.5.2"
  }
 },
 "nbformat": 4,
 "nbformat_minor": 0
}
