{
 "cells": [
  {
   "cell_type": "code",
   "execution_count": 38,
   "metadata": {
    "collapsed": true
   },
   "outputs": [],
   "source": [
    "def multimax(iterable):\n",
    "    \"\"\" Return a list of all maximum values \"\"\"\n",
    "    max_item = max(iterable)\n",
    "    \n",
    "    return [\n",
    "        item\n",
    "        for item in iterable\n",
    "        if item == max_item\n",
    "    ]"
   ]
  },
  {
   "cell_type": "code",
   "execution_count": 39,
   "metadata": {
    "collapsed": false
   },
   "outputs": [
    {
     "data": {
      "text/plain": [
       "[4]"
      ]
     },
     "execution_count": 39,
     "metadata": {},
     "output_type": "execute_result"
    }
   ],
   "source": [
    "multimax([1, 2, 4, 3])"
   ]
  },
  {
   "cell_type": "code",
   "execution_count": 40,
   "metadata": {
    "collapsed": false
   },
   "outputs": [
    {
     "data": {
      "text/plain": [
       "[4, 4]"
      ]
     },
     "execution_count": 40,
     "metadata": {},
     "output_type": "execute_result"
    }
   ],
   "source": [
    "multimax([1, 4, 2, 4, 3])"
   ]
  },
  {
   "cell_type": "code",
   "execution_count": 41,
   "metadata": {
    "collapsed": false
   },
   "outputs": [
    {
     "data": {
      "text/plain": [
       "[1, 1, 1]"
      ]
     },
     "execution_count": 41,
     "metadata": {},
     "output_type": "execute_result"
    }
   ],
   "source": [
    "multimax([1, 1, 1])"
   ]
  },
  {
   "cell_type": "markdown",
   "metadata": {},
   "source": [
    "### Bonus1: multimax function returns an empty list if the given iterable is empty"
   ]
  },
  {
   "cell_type": "code",
   "execution_count": 42,
   "metadata": {
    "collapsed": false
   },
   "outputs": [
    {
     "ename": "ValueError",
     "evalue": "max() arg is an empty sequence",
     "output_type": "error",
     "traceback": [
      "\u001b[1;31m---------------------------------------------------------------------------\u001b[0m",
      "\u001b[1;31mValueError\u001b[0m                                Traceback (most recent call last)",
      "\u001b[1;32m<ipython-input-42-27ec5c77234b>\u001b[0m in \u001b[0;36m<module>\u001b[1;34m()\u001b[0m\n\u001b[1;32m----> 1\u001b[1;33m \u001b[0mmultimax\u001b[0m\u001b[1;33m(\u001b[0m\u001b[1;33m[\u001b[0m\u001b[1;33m]\u001b[0m\u001b[1;33m)\u001b[0m\u001b[1;33m\u001b[0m\u001b[0m\n\u001b[0m",
      "\u001b[1;32m<ipython-input-38-ea524e1d7f33>\u001b[0m in \u001b[0;36mmultimax\u001b[1;34m(iterable)\u001b[0m\n\u001b[0;32m      1\u001b[0m \u001b[1;32mdef\u001b[0m \u001b[0mmultimax\u001b[0m\u001b[1;33m(\u001b[0m\u001b[0miterable\u001b[0m\u001b[1;33m)\u001b[0m\u001b[1;33m:\u001b[0m\u001b[1;33m\u001b[0m\u001b[0m\n\u001b[0;32m      2\u001b[0m     \u001b[1;34m\"\"\" Return a list of all maximum values \"\"\"\u001b[0m\u001b[1;33m\u001b[0m\u001b[0m\n\u001b[1;32m----> 3\u001b[1;33m     \u001b[0mmax_item\u001b[0m \u001b[1;33m=\u001b[0m \u001b[0mmax\u001b[0m\u001b[1;33m(\u001b[0m\u001b[0miterable\u001b[0m\u001b[1;33m)\u001b[0m\u001b[1;33m\u001b[0m\u001b[0m\n\u001b[0m\u001b[0;32m      4\u001b[0m \u001b[1;33m\u001b[0m\u001b[0m\n\u001b[0;32m      5\u001b[0m     return [\n",
      "\u001b[1;31mValueError\u001b[0m: max() arg is an empty sequence"
     ]
    }
   ],
   "source": [
    "multimax([])"
   ]
  },
  {
   "cell_type": "code",
   "execution_count": 43,
   "metadata": {
    "collapsed": true
   },
   "outputs": [],
   "source": [
    "def multimax(iterable):\n",
    "    \"\"\" Return a list of all maximum values \"\"\"\n",
    "    try:\n",
    "        max_item = max(iterable)\n",
    "    except ValueError:\n",
    "        return []\n",
    "    \n",
    "    return [\n",
    "        item\n",
    "        for item in iterable\n",
    "        if item == max_item\n",
    "    ]"
   ]
  },
  {
   "cell_type": "code",
   "execution_count": 44,
   "metadata": {
    "collapsed": false
   },
   "outputs": [
    {
     "data": {
      "text/plain": [
       "[]"
      ]
     },
     "execution_count": 44,
     "metadata": {},
     "output_type": "execute_result"
    }
   ],
   "source": [
    "multimax([])"
   ]
  },
  {
   "cell_type": "code",
   "execution_count": 45,
   "metadata": {
    "collapsed": true
   },
   "outputs": [],
   "source": [
    "def multimax(iterable):\n",
    "    \"\"\" Return a list of all maximum values \"\"\"\n",
    "    max_item = max(iterable, default=None) # Using the default keyword-only argument of max prevents exception.\n",
    "    \n",
    "    return [\n",
    "        item\n",
    "        for item in iterable\n",
    "        if item == max_item\n",
    "    ]"
   ]
  },
  {
   "cell_type": "code",
   "execution_count": 46,
   "metadata": {
    "collapsed": false
   },
   "outputs": [
    {
     "data": {
      "text/plain": [
       "[]"
      ]
     },
     "execution_count": 46,
     "metadata": {},
     "output_type": "execute_result"
    }
   ],
   "source": [
    "multimax([])"
   ]
  },
  {
   "cell_type": "markdown",
   "metadata": {},
   "source": [
    "### Bonus2: multimax function will work with iterators (lazy iterables) such as files, zip objects, and generators"
   ]
  },
  {
   "cell_type": "code",
   "execution_count": 53,
   "metadata": {
    "collapsed": true
   },
   "outputs": [],
   "source": [
    "numbers = [1, 3, 8, 5, 4, 10, 6]\n",
    "odds = (n for n in numbers if n % 2 == 1)"
   ]
  },
  {
   "cell_type": "code",
   "execution_count": 48,
   "metadata": {
    "collapsed": false
   },
   "outputs": [
    {
     "data": {
      "text/plain": [
       "[]"
      ]
     },
     "execution_count": 48,
     "metadata": {},
     "output_type": "execute_result"
    }
   ],
   "source": [
    "multimax(odds)"
   ]
  },
  {
   "cell_type": "code",
   "execution_count": 54,
   "metadata": {
    "collapsed": true
   },
   "outputs": [],
   "source": [
    "def multimax(iterable):\n",
    "    \"\"\" Return a list of all maximum values \"\"\"\n",
    "    maximums = []\n",
    "    \n",
    "    for item in iterable:\n",
    "        if not maximums or maximums[0] == item:\n",
    "            maximums.append(item)\n",
    "        else:\n",
    "            if item > maximums[0]:\n",
    "                maximums = [item]\n",
    "                \n",
    "    return maximums            "
   ]
  },
  {
   "cell_type": "code",
   "execution_count": 50,
   "metadata": {
    "collapsed": false
   },
   "outputs": [
    {
     "data": {
      "text/plain": [
       "[]"
      ]
     },
     "execution_count": 50,
     "metadata": {},
     "output_type": "execute_result"
    }
   ],
   "source": [
    "multimax([])"
   ]
  },
  {
   "cell_type": "code",
   "execution_count": 51,
   "metadata": {
    "collapsed": false
   },
   "outputs": [
    {
     "data": {
      "text/plain": [
       "[4, 4]"
      ]
     },
     "execution_count": 51,
     "metadata": {},
     "output_type": "execute_result"
    }
   ],
   "source": [
    "multimax([1, 4, 2, 4, 3])"
   ]
  },
  {
   "cell_type": "code",
   "execution_count": 55,
   "metadata": {
    "collapsed": true
   },
   "outputs": [],
   "source": [
    "numbers = [1, 3, 8, 5, 4, 10, 6]\n",
    "odds = (n for n in numbers if n % 2 == 1)"
   ]
  },
  {
   "cell_type": "code",
   "execution_count": 56,
   "metadata": {
    "collapsed": false
   },
   "outputs": [
    {
     "data": {
      "text/plain": [
       "[5]"
      ]
     },
     "execution_count": 56,
     "metadata": {},
     "output_type": "execute_result"
    }
   ],
   "source": [
    "multimax(odds)"
   ]
  },
  {
   "cell_type": "markdown",
   "metadata": {},
   "source": [
    "### Bonus3: multimax function accept a keyword argument called \"key\" that is a function which will be used to determine the key by which to compare values as maximums"
   ]
  },
  {
   "cell_type": "code",
   "execution_count": 73,
   "metadata": {
    "collapsed": false
   },
   "outputs": [],
   "source": [
    "def multimax(iterable, key=None):\n",
    "    \"\"\" Return a list of all maximum values \"\"\"\n",
    "    if key is None:\n",
    "        def key(item): return item\n",
    "        \n",
    "    maximums = []\n",
    "    key_max = None\n",
    "    \n",
    "    for item in iterable:\n",
    "        k = key(item)\n",
    "        \n",
    "        if k == key_max:\n",
    "            maximums.append(item)\n",
    "        elif not maximums or k > key_max:\n",
    "            key_max = k\n",
    "            maximums = [item]          \n",
    "            \n",
    "    return maximums        "
   ]
  },
  {
   "cell_type": "code",
   "execution_count": 74,
   "metadata": {
    "collapsed": false
   },
   "outputs": [
    {
     "data": {
      "text/plain": [
       "[4]"
      ]
     },
     "execution_count": 74,
     "metadata": {},
     "output_type": "execute_result"
    }
   ],
   "source": [
    "multimax([1, 2, 4, 3])"
   ]
  },
  {
   "cell_type": "code",
   "execution_count": 75,
   "metadata": {
    "collapsed": false
   },
   "outputs": [
    {
     "data": {
      "text/plain": [
       "[4, 4]"
      ]
     },
     "execution_count": 75,
     "metadata": {},
     "output_type": "execute_result"
    }
   ],
   "source": [
    "multimax([1, 4, 2, 4, 3])"
   ]
  },
  {
   "cell_type": "code",
   "execution_count": 76,
   "metadata": {
    "collapsed": true
   },
   "outputs": [],
   "source": [
    "numbers = [1, 3, 8, 5, 4, 10, 6]\n",
    "odds = (n for n in numbers if n % 2 == 1)"
   ]
  },
  {
   "cell_type": "code",
   "execution_count": 77,
   "metadata": {
    "collapsed": false
   },
   "outputs": [
    {
     "data": {
      "text/plain": [
       "[5]"
      ]
     },
     "execution_count": 77,
     "metadata": {},
     "output_type": "execute_result"
    }
   ],
   "source": [
    "multimax(odds)"
   ]
  },
  {
   "cell_type": "code",
   "execution_count": 78,
   "metadata": {
    "collapsed": false
   },
   "outputs": [
    {
     "data": {
      "text/plain": [
       "[]"
      ]
     },
     "execution_count": 78,
     "metadata": {},
     "output_type": "execute_result"
    }
   ],
   "source": [
    "multimax([])"
   ]
  },
  {
   "cell_type": "code",
   "execution_count": 79,
   "metadata": {
    "collapsed": true
   },
   "outputs": [],
   "source": [
    "words = [\"cheese\", \"shop\", \"ministry\", \"of\", \"silly\", \"walks\", \"argument\", \"clinic\"]"
   ]
  },
  {
   "cell_type": "code",
   "execution_count": 80,
   "metadata": {
    "collapsed": false
   },
   "outputs": [
    {
     "data": {
      "text/plain": [
       "['ministry', 'argument']"
      ]
     },
     "execution_count": 80,
     "metadata": {},
     "output_type": "execute_result"
    }
   ],
   "source": [
    "multimax(words, key=len)"
   ]
  },
  {
   "cell_type": "markdown",
   "metadata": {},
   "source": [
    "### We may use lambda when no key is provided like so:"
   ]
  },
  {
   "cell_type": "code",
   "execution_count": 87,
   "metadata": {
    "collapsed": true
   },
   "outputs": [],
   "source": [
    "def multimax(iterable, key=lambda x: x):\n",
    "    \"\"\" Return a list of all maximum values \"\"\"\n",
    "    maximums = []\n",
    "    key_max = None\n",
    "    \n",
    "    for item in iterable:\n",
    "        k = key(item)\n",
    "        \n",
    "        if k == key_max:\n",
    "            maximums.append(item)\n",
    "        elif not maximums or k > key_max:\n",
    "            key_max = k\n",
    "            maximums = [item]          \n",
    "            \n",
    "    return maximums        "
   ]
  },
  {
   "cell_type": "markdown",
   "metadata": {},
   "source": [
    "## Unit Tests"
   ]
  },
  {
   "cell_type": "code",
   "execution_count": 88,
   "metadata": {
    "collapsed": false
   },
   "outputs": [
    {
     "name": "stderr",
     "output_type": "stream",
     "text": [
      "........\n",
      "----------------------------------------------------------------------\n",
      "Ran 8 tests in 0.003s\n",
      "\n",
      "OK\n"
     ]
    }
   ],
   "source": [
    "import unittest\n",
    "\n",
    "\n",
    "class MultiMaxTests(unittest.TestCase):\n",
    "\n",
    "    \"\"\"Tests for multimax.\"\"\"\n",
    "\n",
    "    def test_single_max(self):\n",
    "        self.assertEqual(multimax([1, 2, 4, 3]), [4])\n",
    "\n",
    "    def test_two_max(self):\n",
    "        self.assertEqual(multimax([1, 4, 2, 4, 3]), [4, 4])\n",
    "\n",
    "    def test_all_max(self):\n",
    "        self.assertEqual(multimax([1, 1, 1, 1, 1]), [1, 1, 1, 1, 1])\n",
    "\n",
    "    def test_lists(self):\n",
    "        inputs = [[0], [1], [], [0, 1], [1]]\n",
    "        expected = [[1], [1]]\n",
    "        self.assertEqual(multimax(inputs), expected)\n",
    "\n",
    "    def test_order_maintained(self):\n",
    "        inputs = [\n",
    "            (3, 2),\n",
    "            (2, 1),\n",
    "            (3, 2),\n",
    "            (2, 0),\n",
    "            (3, 2),\n",
    "        ]\n",
    "        expected = [\n",
    "            inputs[0],\n",
    "            inputs[2],\n",
    "            inputs[4],\n",
    "        ]\n",
    "        outputs = multimax(inputs)\n",
    "        self.assertEqual(outputs, expected)\n",
    "        self.assertIs(outputs[0], expected[0])\n",
    "        self.assertIs(outputs[1], expected[1])\n",
    "        self.assertIs(outputs[2], expected[2])\n",
    "\n",
    "    # To test the Bonus part of this exercise, comment out the following line\n",
    "    # @unittest.expectedFailure\n",
    "    def test_empty(self):\n",
    "        self.assertEqual(multimax([]), [])\n",
    "\n",
    "    # To test the Bonus part of this exercise, comment out the following line\n",
    "    # @unittest.expectedFailure\n",
    "    def test_iterator(self):\n",
    "        numbers = [1, 4, 2, 4, 3]\n",
    "        squares = (n**2 for n in numbers)\n",
    "        self.assertEqual(multimax(squares), [16, 16])\n",
    "\n",
    "    # To test the Bonus part of this exercise, comment out the following line\n",
    "    # @unittest.expectedFailure\n",
    "    def test_key_function(self):\n",
    "        words = [\"alligator\", \"animal\", \"apple\", \"artichoke\", \"avalanche\"]\n",
    "        outputs = [\"alligator\", \"artichoke\", \"avalanche\"]\n",
    "        self.assertEqual(multimax(words, key=len), outputs)\n",
    "\n",
    "\n",
    "if __name__ == \"__main__\":\n",
    "    unittest.main(argv=['first-arg-is-ignored'], exit=False)"
   ]
  },
  {
   "cell_type": "code",
   "execution_count": null,
   "metadata": {
    "collapsed": true
   },
   "outputs": [],
   "source": []
  }
 ],
 "metadata": {
  "kernelspec": {
   "display_name": "Python 3",
   "language": "python",
   "name": "python3"
  },
  "language_info": {
   "codemirror_mode": {
    "name": "ipython",
    "version": 3
   },
   "file_extension": ".py",
   "mimetype": "text/x-python",
   "name": "python",
   "nbconvert_exporter": "python",
   "pygments_lexer": "ipython3",
   "version": "3.5.2"
  }
 },
 "nbformat": 4,
 "nbformat_minor": 0
}
