{
 "cells": [
  {
   "cell_type": "code",
   "execution_count": 68,
   "metadata": {
    "collapsed": false
   },
   "outputs": [],
   "source": [
    "def multimax(iterable, key=None):\n",
    "    \"\"\"\n",
    "    Function that takes an iterable and returns all\n",
    "    maximum values found in the iterable\n",
    "    \"\"\"\n",
    "    input = list(iterable)\n",
    "    if key:\n",
    "        return [it for it in input if key(it) == key(max(input, key=key))]\n",
    "    return [it for it in input if it == max(input)]"
   ]
  },
  {
   "cell_type": "code",
   "execution_count": 69,
   "metadata": {
    "collapsed": false
   },
   "outputs": [
    {
     "data": {
      "text/plain": [
       "[4]"
      ]
     },
     "execution_count": 69,
     "metadata": {},
     "output_type": "execute_result"
    }
   ],
   "source": [
    "multimax([1, 2, 4, 3])"
   ]
  },
  {
   "cell_type": "code",
   "execution_count": 70,
   "metadata": {
    "collapsed": false
   },
   "outputs": [
    {
     "data": {
      "text/plain": [
       "[4, 4]"
      ]
     },
     "execution_count": 70,
     "metadata": {},
     "output_type": "execute_result"
    }
   ],
   "source": [
    "multimax([1, 4, 2, 4, 3])"
   ]
  },
  {
   "cell_type": "code",
   "execution_count": 71,
   "metadata": {
    "collapsed": false
   },
   "outputs": [
    {
     "data": {
      "text/plain": [
       "[1, 1, 1]"
      ]
     },
     "execution_count": 71,
     "metadata": {},
     "output_type": "execute_result"
    }
   ],
   "source": [
    "multimax([1, 1, 1])"
   ]
  },
  {
   "cell_type": "markdown",
   "metadata": {},
   "source": [
    "### Bonus1: Make sure the function returns an empty list if the iterable is empty"
   ]
  },
  {
   "cell_type": "code",
   "execution_count": 72,
   "metadata": {
    "collapsed": false
   },
   "outputs": [
    {
     "data": {
      "text/plain": [
       "[]"
      ]
     },
     "execution_count": 72,
     "metadata": {},
     "output_type": "execute_result"
    }
   ],
   "source": [
    "multimax([])"
   ]
  },
  {
   "cell_type": "markdown",
   "metadata": {},
   "source": [
    "### Bonus2: Make sure the function works well with iterator such as files, generators etc"
   ]
  },
  {
   "cell_type": "code",
   "execution_count": 73,
   "metadata": {
    "collapsed": false
   },
   "outputs": [
    {
     "data": {
      "text/plain": [
       "[5]"
      ]
     },
     "execution_count": 73,
     "metadata": {},
     "output_type": "execute_result"
    }
   ],
   "source": [
    "numbers = [1, 3, 8, 5, 4, 10, 6]\n",
    "odds = (n for n in numbers if n % 2 == 1)\n",
    "multimax(odds)"
   ]
  },
  {
   "cell_type": "markdown",
   "metadata": {},
   "source": [
    "### Bonus3: The multimax function accept a keyword argument called \"key\" that is a function which will be used to determine the key by which to compare values as maximums. For example the key function could be used to find the longest words in a list of words "
   ]
  },
  {
   "cell_type": "code",
   "execution_count": 74,
   "metadata": {
    "collapsed": true
   },
   "outputs": [],
   "source": [
    "words = [\"cheese\", \"shop\", \"ministry\", \"of\", \"silly\", \"walks\", \"argument\", \"clinic\"]"
   ]
  },
  {
   "cell_type": "code",
   "execution_count": 75,
   "metadata": {
    "collapsed": false
   },
   "outputs": [
    {
     "data": {
      "text/plain": [
       "['ministry', 'argument']"
      ]
     },
     "execution_count": 75,
     "metadata": {},
     "output_type": "execute_result"
    }
   ],
   "source": [
    "multimax(words, key=len)"
   ]
  },
  {
   "cell_type": "code",
   "execution_count": 80,
   "metadata": {
    "collapsed": false
   },
   "outputs": [
    {
     "data": {
      "text/plain": [
       "'ministry'"
      ]
     },
     "execution_count": 80,
     "metadata": {},
     "output_type": "execute_result"
    }
   ],
   "source": [
    "words = [\"cheese\", \"shop\", \"ministry\", \"of\", \"silly\", \"walks\", \"argument\", \"clinic\"]\n",
    "max(words, key=len)"
   ]
  },
  {
   "cell_type": "code",
   "execution_count": 79,
   "metadata": {
    "collapsed": false
   },
   "outputs": [
    {
     "data": {
      "text/plain": [
       "'argument'"
      ]
     },
     "execution_count": 79,
     "metadata": {},
     "output_type": "execute_result"
    }
   ],
   "source": [
    "words = [\"cheese\", \"shop\", \"argument\", \"of\", \"silly\", \"walks\", \"ministry\", \"clinic\"]\n",
    "max(words, key=len)"
   ]
  },
  {
   "cell_type": "markdown",
   "metadata": {},
   "source": [
    "## Unitests"
   ]
  },
  {
   "cell_type": "code",
   "execution_count": 78,
   "metadata": {
    "collapsed": false
   },
   "outputs": [
    {
     "name": "stderr",
     "output_type": "stream",
     "text": [
      "........\n",
      "----------------------------------------------------------------------\n",
      "Ran 8 tests in 0.004s\n",
      "\n",
      "OK\n"
     ]
    }
   ],
   "source": [
    "import unittest\n",
    "\n",
    "\n",
    "class MultiMaxTests(unittest.TestCase):\n",
    "\n",
    "    \"\"\"Tests for multimax.\"\"\"\n",
    "\n",
    "    def test_single_max(self):\n",
    "        self.assertEqual(multimax([1, 2, 4, 3]), [4])\n",
    "\n",
    "    def test_two_max(self):\n",
    "        self.assertEqual(multimax([1, 4, 2, 4, 3]), [4, 4])\n",
    "\n",
    "    def test_all_max(self):\n",
    "        self.assertEqual(multimax([1, 1, 1, 1, 1]), [1, 1, 1, 1, 1])\n",
    "\n",
    "    def test_lists(self):\n",
    "        inputs = [[0], [1], [], [0, 1], [1]]\n",
    "        expected = [[1], [1]]\n",
    "        self.assertEqual(multimax(inputs), expected)\n",
    "\n",
    "    def test_order_maintained(self):\n",
    "        inputs = [\n",
    "            (3, 2),\n",
    "            (2, 1),\n",
    "            (3, 2),\n",
    "            (2, 0),\n",
    "            (3, 2),\n",
    "        ]\n",
    "        expected = [\n",
    "            inputs[0],\n",
    "            inputs[2],\n",
    "            inputs[4],\n",
    "        ]\n",
    "        outputs = multimax(inputs)\n",
    "        self.assertEqual(outputs, expected)\n",
    "        self.assertIs(outputs[0], expected[0])\n",
    "        self.assertIs(outputs[1], expected[1])\n",
    "        self.assertIs(outputs[2], expected[2])\n",
    "\n",
    "    # To test the Bonus part of this exercise, comment out the following line\n",
    "    # @unittest.expectedFailure\n",
    "    def test_empty(self):\n",
    "        self.assertEqual(multimax([]), [])\n",
    "\n",
    "    # To test the Bonus part of this exercise, comment out the following line\n",
    "    # @unittest.expectedFailure\n",
    "    def test_iterator(self):\n",
    "        numbers = [1, 4, 2, 4, 3]\n",
    "        squares = (n**2 for n in numbers)\n",
    "        self.assertEqual(multimax(squares), [16, 16])\n",
    "\n",
    "    # To test the Bonus part of this exercise, comment out the following line\n",
    "    # @unittest.expectedFailure\n",
    "    def test_key_function(self):\n",
    "        words = [\"alligator\", \"animal\", \"apple\", \"artichoke\", \"avalanche\"]\n",
    "        outputs = [\"alligator\", \"artichoke\", \"avalanche\"]\n",
    "        self.assertEqual(multimax(words, key=len), outputs)\n",
    "\n",
    "\n",
    "if __name__ == \"__main__\":\n",
    "    unittest.main(argv=['first-arg-is-ignored'], exit=False)"
   ]
  },
  {
   "cell_type": "code",
   "execution_count": null,
   "metadata": {
    "collapsed": true
   },
   "outputs": [],
   "source": []
  },
  {
   "cell_type": "code",
   "execution_count": null,
   "metadata": {
    "collapsed": true
   },
   "outputs": [],
   "source": []
  }
 ],
 "metadata": {
  "kernelspec": {
   "display_name": "Python 3",
   "language": "python",
   "name": "python3"
  },
  "language_info": {
   "codemirror_mode": {
    "name": "ipython",
    "version": 3
   },
   "file_extension": ".py",
   "mimetype": "text/x-python",
   "name": "python",
   "nbconvert_exporter": "python",
   "pygments_lexer": "ipython3",
   "version": "3.5.2"
  }
 },
 "nbformat": 4,
 "nbformat_minor": 0
}
