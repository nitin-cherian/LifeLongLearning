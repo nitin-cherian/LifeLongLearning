{
 "cells": [
  {
   "cell_type": "code",
   "execution_count": 3,
   "metadata": {
    "collapsed": true
   },
   "outputs": [],
   "source": [
    "def get_earliest(date1, date2):\n",
    "    # Tuple unpacking\n",
    "    m1, d1, y1 = date1.split(\"/\")\n",
    "    m2, d2, y2 = date2.split(\"/\")\n",
    "    \n",
    "    # Comparing tuples\n",
    "    return date1 if (y1, m1, d1) < (y2, m2, d2) else date2"
   ]
  },
  {
   "cell_type": "code",
   "execution_count": 4,
   "metadata": {
    "collapsed": false
   },
   "outputs": [
    {
     "name": "stderr",
     "output_type": "stream",
     "text": [
      ".......\n",
      "----------------------------------------------------------------------\n",
      "Ran 7 tests in 0.003s\n",
      "\n",
      "OK\n"
     ]
    }
   ],
   "source": [
    "import unittest\n",
    "\n",
    "\n",
    "class GetEarliestTests(unittest.TestCase):\n",
    "\n",
    "    \"\"\"Tests for get_earliest.\"\"\"\n",
    "\n",
    "    def test_same_month_and_day(self):\n",
    "        newer = \"01/27/1832\"\n",
    "        older = \"01/27/1756\"\n",
    "        self.assertEqual(get_earliest(newer, older), older)\n",
    "\n",
    "    def test_february_29th(self):\n",
    "        newer = \"02/29/1972\"\n",
    "        older = \"12/21/1946\"\n",
    "        self.assertEqual(get_earliest(newer, older), older)\n",
    "\n",
    "    def test_smaller_month_bigger_day(self):\n",
    "        newer = \"03/21/1946\"\n",
    "        older = \"02/24/1946\"\n",
    "        self.assertEqual(get_earliest(older, newer), older)\n",
    "\n",
    "    def test_same_month_and_year(self):\n",
    "        newer = \"06/24/1958\"\n",
    "        older = \"06/21/1958\"\n",
    "        self.assertEqual(get_earliest(older, newer), older)\n",
    "\n",
    "    def test_invalid_date_allowed(self):\n",
    "        newer = \"02/29/2006\"\n",
    "        older = \"02/28/2006\"\n",
    "        self.assertEqual(get_earliest(older, newer), older)\n",
    "\n",
    "    def test_two_invalid_dates(self):\n",
    "        newer = \"02/30/2006\"\n",
    "        older = \"02/29/2006\"\n",
    "        self.assertEqual(get_earliest(newer, older), older)\n",
    "\n",
    "    def test_two_invalid_dates_v2(self):\n",
    "        newer = \"01/32/2007\"\n",
    "        older = \"02/29/2006\"\n",
    "        self.assertEqual(get_earliest(newer, older), older)     \n",
    "\n",
    "if __name__ == \"__main__\":\n",
    "    unittest.main(argv=['first-arg-is-ignored'], exit=False)"
   ]
  },
  {
   "cell_type": "markdown",
   "metadata": {},
   "source": [
    "# Key Takeaways:\n",
    "## 1. Tuple unpacking \n",
    "## 2. Comparing tuples using comparison operators just like other data types like integers"
   ]
  },
  {
   "cell_type": "code",
   "execution_count": null,
   "metadata": {
    "collapsed": true
   },
   "outputs": [],
   "source": []
  }
 ],
 "metadata": {
  "kernelspec": {
   "display_name": "Python 3",
   "language": "python",
   "name": "python3"
  },
  "language_info": {
   "codemirror_mode": {
    "name": "ipython",
    "version": 3
   },
   "file_extension": ".py",
   "mimetype": "text/x-python",
   "name": "python",
   "nbconvert_exporter": "python",
   "pygments_lexer": "ipython3",
   "version": "3.5.2"
  }
 },
 "nbformat": 4,
 "nbformat_minor": 0
}
