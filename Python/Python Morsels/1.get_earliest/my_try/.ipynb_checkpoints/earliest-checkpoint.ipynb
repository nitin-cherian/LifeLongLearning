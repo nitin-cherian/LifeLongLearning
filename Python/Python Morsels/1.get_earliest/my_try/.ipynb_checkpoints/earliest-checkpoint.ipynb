{
 "cells": [
  {
   "cell_type": "code",
   "execution_count": 2,
   "metadata": {
    "collapsed": true
   },
   "outputs": [],
   "source": [
    "from datetime import datetime"
   ]
  },
  {
   "cell_type": "code",
   "execution_count": 8,
   "metadata": {
    "collapsed": true
   },
   "outputs": [],
   "source": [
    "def get_earliest(date1, date2):\n",
    "    try:\n",
    "        d1 = datetime.strptime(date1, \"%m/%d/%Y\")\n",
    "        d2 = datetime.strptime(date2, \"%m/%d/%Y\")\n",
    "        return date1 if d1 < d2 else date2\n",
    "    except ValueError:\n",
    "        return min(date1, date2)"
   ]
  },
  {
   "cell_type": "code",
   "execution_count": 9,
   "metadata": {
    "collapsed": false
   },
   "outputs": [
    {
     "name": "stderr",
     "output_type": "stream",
     "text": [
      "......F\n",
      "======================================================================\n",
      "FAIL: test_two_invalid_dates_v2 (__main__.GetEarliestTests)\n",
      "----------------------------------------------------------------------\n",
      "Traceback (most recent call last):\n",
      "  File \"<ipython-input-9-584db24a3933>\", line 41, in test_two_invalid_dates_v2\n",
      "    self.assertEqual(get_earliest(newer, older), older)\n",
      "AssertionError: '01/32/2007' != '02/29/2006'\n",
      "- 01/32/2007\n",
      "+ 02/29/2006\n",
      "\n",
      "\n",
      "----------------------------------------------------------------------\n",
      "Ran 7 tests in 0.004s\n",
      "\n",
      "FAILED (failures=1)\n"
     ]
    }
   ],
   "source": [
    "import unittest\n",
    "\n",
    "\n",
    "class GetEarliestTests(unittest.TestCase):\n",
    "\n",
    "    \"\"\"Tests for get_earliest.\"\"\"\n",
    "\n",
    "    def test_same_month_and_day(self):\n",
    "        newer = \"01/27/1832\"\n",
    "        older = \"01/27/1756\"\n",
    "        self.assertEqual(get_earliest(newer, older), older)\n",
    "\n",
    "    def test_february_29th(self):\n",
    "        newer = \"02/29/1972\"\n",
    "        older = \"12/21/1946\"\n",
    "        self.assertEqual(get_earliest(newer, older), older)\n",
    "\n",
    "    def test_smaller_month_bigger_day(self):\n",
    "        newer = \"03/21/1946\"\n",
    "        older = \"02/24/1946\"\n",
    "        self.assertEqual(get_earliest(older, newer), older)\n",
    "\n",
    "    def test_same_month_and_year(self):\n",
    "        newer = \"06/24/1958\"\n",
    "        older = \"06/21/1958\"\n",
    "        self.assertEqual(get_earliest(older, newer), older)\n",
    "\n",
    "    def test_invalid_date_allowed(self):\n",
    "        newer = \"02/29/2006\"\n",
    "        older = \"02/28/2006\"\n",
    "        self.assertEqual(get_earliest(older, newer), older)\n",
    "\n",
    "    def test_two_invalid_dates(self):\n",
    "        newer = \"02/30/2006\"\n",
    "        older = \"02/29/2006\"\n",
    "        self.assertEqual(get_earliest(newer, older), older)\n",
    "\n",
    "    def test_two_invalid_dates_v2(self):\n",
    "        newer = \"01/32/2007\"\n",
    "        older = \"02/29/2006\"\n",
    "        self.assertEqual(get_earliest(newer, older), older)     \n",
    "\n",
    "if __name__ == \"__main__\":\n",
    "    unittest.main(argv=['first-arg-is-ignored'], exit=False)"
   ]
  },
  {
   "cell_type": "markdown",
   "metadata": {},
   "source": [
    "### The above solution does not work for the unittest 'test_two_invalid_dates_v2'. In the solution, min() just looks at the smallest string lexicographically i.e using ASCII value of the characters. So 01 get is lexicographically smaller than 02, eventhough 02/29/2006 is older than 01/32/2007"
   ]
  },
  {
   "cell_type": "code",
   "execution_count": null,
   "metadata": {
    "collapsed": true
   },
   "outputs": [],
   "source": []
  }
 ],
 "metadata": {
  "kernelspec": {
   "display_name": "Python 3",
   "language": "python",
   "name": "python3"
  },
  "language_info": {
   "codemirror_mode": {
    "name": "ipython",
    "version": 3
   },
   "file_extension": ".py",
   "mimetype": "text/x-python",
   "name": "python",
   "nbconvert_exporter": "python",
   "pygments_lexer": "ipython3",
   "version": "3.5.2"
  }
 },
 "nbformat": 4,
 "nbformat_minor": 0
}
