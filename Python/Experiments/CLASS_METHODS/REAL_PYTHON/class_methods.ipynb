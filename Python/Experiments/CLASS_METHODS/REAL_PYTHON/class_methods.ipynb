{
 "cells": [
  {
   "cell_type": "code",
   "execution_count": 21,
   "metadata": {
    "collapsed": true
   },
   "outputs": [],
   "source": [
    "class MyClass:\n",
    "    test = 'test'\n",
    "    def method(self):\n",
    "        return 'instance method called', self, self.__class__\n",
    "    \n",
    "    @classmethod\n",
    "    def classmethod(cls):\n",
    "        return 'class method called', cls\n",
    "    \n",
    "    @staticmethod\n",
    "    def staticmethod():\n",
    "        return 'static method called'"
   ]
  },
  {
   "cell_type": "code",
   "execution_count": 22,
   "metadata": {
    "collapsed": false
   },
   "outputs": [
    {
     "name": "stdout",
     "output_type": "stream",
     "text": [
      "p1.test =  test\n",
      "p2.test =  test\n",
      "p1.__class__.test =  test\n",
      "p2.__class___.test =  test\n",
      "MyClass.test test\n",
      "=======\n",
      "p1.test =  stop\n",
      "p2.test =  test\n",
      "p1.__class__.test =  test\n",
      "p2.__class___.test =  test\n",
      "MyClass.test test\n",
      "=======\n",
      "p1.test =  stop\n",
      "p2.test =  next\n",
      "p1.__class__.test =  next\n",
      "p2.__class___.test =  next\n",
      "MyClass.test next\n",
      "=======\n",
      "p1.test =  next\n",
      "p2.test =  next\n",
      "p1.__class__.test =  next\n",
      "p2.__class___.test =  next\n",
      "MyClass.test next\n",
      "=======\n",
      "p1.test =  test\n",
      "p2.test =  test\n",
      "p1.__class__.test =  test\n",
      "p2.__class___.test =  test\n",
      "MyClass.test test\n",
      "=======\n"
     ]
    }
   ],
   "source": [
    "p1 = MyClass()\n",
    "p2 = MyClass()\n",
    "print(\"p1.test = \",p1.test)\n",
    "print(\"p2.test = \", p2.test)\n",
    "print(\"p1.__class__.test = \",p1.__class__.test)\n",
    "print(\"p2.__class___.test = \", p2.__class__.test)\n",
    "print('MyClass.test', MyClass.test)\n",
    "print(\"=======\")\n",
    "p1.test = 'stop'\n",
    "print(\"p1.test = \",p1.test)\n",
    "print(\"p2.test = \", p2.test)\n",
    "print(\"p1.__class__.test = \",p1.__class__.test)\n",
    "print(\"p2.__class___.test = \", p2.__class__.test)\n",
    "print('MyClass.test', MyClass.test)\n",
    "print(\"=======\")\n",
    "p1.__class__.test = 'next'\n",
    "print(\"p1.test = \",p1.test)\n",
    "print(\"p2.test = \", p2.test)\n",
    "print(\"p1.__class__.test = \",p1.__class__.test)\n",
    "print(\"p2.__class___.test = \", p2.__class__.test)\n",
    "print('MyClass.test', MyClass.test)\n",
    "print(\"=======\")\n",
    "del p1.test\n",
    "print(\"p1.test = \",p1.test)\n",
    "print(\"p2.test = \", p2.test)\n",
    "print(\"p1.__class__.test = \",p1.__class__.test)\n",
    "print(\"p2.__class___.test = \", p2.__class__.test)\n",
    "print('MyClass.test', MyClass.test)\n",
    "print(\"=======\")\n",
    "MyClass.test = 'test'\n",
    "print(\"p1.test = \",p1.test)\n",
    "print(\"p2.test = \", p2.test)\n",
    "print(\"p1.__class__.test = \",p1.__class__.test)\n",
    "print(\"p2.__class___.test = \", p2.__class__.test)\n",
    "print('MyClass.test', MyClass.test)\n",
    "print(\"=======\")"
   ]
  },
  {
   "cell_type": "markdown",
   "metadata": {},
   "source": [
    "### Instance method"
   ]
  },
  {
   "cell_type": "code",
   "execution_count": 7,
   "metadata": {
    "collapsed": false
   },
   "outputs": [
    {
     "data": {
      "text/plain": [
       "('instance method called', <__main__.MyClass at 0x4756400>, __main__.MyClass)"
      ]
     },
     "execution_count": 7,
     "metadata": {},
     "output_type": "execute_result"
    }
   ],
   "source": [
    "obj = MyClass()\n",
    "obj.method()"
   ]
  },
  {
   "cell_type": "code",
   "execution_count": 8,
   "metadata": {
    "collapsed": false
   },
   "outputs": [
    {
     "data": {
      "text/plain": [
       "__main__.MyClass"
      ]
     },
     "execution_count": 8,
     "metadata": {},
     "output_type": "execute_result"
    }
   ],
   "source": [
    "obj.__class__"
   ]
  },
  {
   "cell_type": "code",
   "execution_count": 9,
   "metadata": {
    "collapsed": false
   },
   "outputs": [
    {
     "data": {
      "text/plain": [
       "('instance method called', <__main__.MyClass at 0x4756400>, __main__.MyClass)"
      ]
     },
     "execution_count": 9,
     "metadata": {},
     "output_type": "execute_result"
    }
   ],
   "source": [
    "MyClass.method(obj)"
   ]
  },
  {
   "cell_type": "code",
   "execution_count": 10,
   "metadata": {
    "collapsed": false
   },
   "outputs": [
    {
     "ename": "TypeError",
     "evalue": "method() missing 1 required positional argument: 'self'",
     "output_type": "error",
     "traceback": [
      "\u001b[1;31m---------------------------------------------------------------------------\u001b[0m",
      "\u001b[1;31mTypeError\u001b[0m                                 Traceback (most recent call last)",
      "\u001b[1;32m<ipython-input-10-7f5ee7a23fc9>\u001b[0m in \u001b[0;36m<module>\u001b[1;34m()\u001b[0m\n\u001b[1;32m----> 1\u001b[1;33m \u001b[0mMyClass\u001b[0m\u001b[1;33m.\u001b[0m\u001b[0mmethod\u001b[0m\u001b[1;33m(\u001b[0m\u001b[1;33m)\u001b[0m\u001b[1;33m\u001b[0m\u001b[0m\n\u001b[0m",
      "\u001b[1;31mTypeError\u001b[0m: method() missing 1 required positional argument: 'self'"
     ]
    }
   ],
   "source": [
    "MyClass.method()"
   ]
  },
  {
   "cell_type": "markdown",
   "metadata": {},
   "source": [
    "### Class method"
   ]
  },
  {
   "cell_type": "code",
   "execution_count": 11,
   "metadata": {
    "collapsed": false
   },
   "outputs": [
    {
     "data": {
      "text/plain": [
       "('class method called', __main__.MyClass)"
      ]
     },
     "execution_count": 11,
     "metadata": {},
     "output_type": "execute_result"
    }
   ],
   "source": [
    "obj.classmethod()"
   ]
  },
  {
   "cell_type": "code",
   "execution_count": 12,
   "metadata": {
    "collapsed": false
   },
   "outputs": [
    {
     "data": {
      "text/plain": [
       "('class method called', __main__.MyClass)"
      ]
     },
     "execution_count": 12,
     "metadata": {},
     "output_type": "execute_result"
    }
   ],
   "source": [
    "MyClass.classmethod()"
   ]
  },
  {
   "cell_type": "markdown",
   "metadata": {},
   "source": [
    "### Static Method\n"
   ]
  },
  {
   "cell_type": "code",
   "execution_count": 13,
   "metadata": {
    "collapsed": false
   },
   "outputs": [
    {
     "data": {
      "text/plain": [
       "'static method called'"
      ]
     },
     "execution_count": 13,
     "metadata": {},
     "output_type": "execute_result"
    }
   ],
   "source": [
    "obj.staticmethod()"
   ]
  },
  {
   "cell_type": "code",
   "execution_count": 14,
   "metadata": {
    "collapsed": false
   },
   "outputs": [
    {
     "data": {
      "text/plain": [
       "'static method called'"
      ]
     },
     "execution_count": 14,
     "metadata": {},
     "output_type": "execute_result"
    }
   ],
   "source": [
    "MyClass.staticmethod()"
   ]
  },
  {
   "cell_type": "markdown",
   "metadata": {},
   "source": [
    "## Bare-bone Pizza class\n"
   ]
  },
  {
   "cell_type": "code",
   "execution_count": 15,
   "metadata": {
    "collapsed": true
   },
   "outputs": [],
   "source": [
    "class Pizza:\n",
    "    def __init__(self, ingredients):\n",
    "        self.ingredients = ingredients\n",
    "        \n",
    "    def __repr__(self):\n",
    "        return \"Pizza({})\".format(self.ingredients)"
   ]
  },
  {
   "cell_type": "code",
   "execution_count": 16,
   "metadata": {
    "collapsed": false
   },
   "outputs": [
    {
     "data": {
      "text/plain": [
       "Pizza(['cheeze', 'tomatoes'])"
      ]
     },
     "execution_count": 16,
     "metadata": {},
     "output_type": "execute_result"
    }
   ],
   "source": [
    "Pizza(['cheeze', 'tomatoes'])"
   ]
  },
  {
   "cell_type": "markdown",
   "metadata": {},
   "source": [
    "### Delicious Pizza Factories With @classmethod"
   ]
  },
  {
   "cell_type": "code",
   "execution_count": 17,
   "metadata": {
    "collapsed": true
   },
   "outputs": [],
   "source": [
    "class Pizza:\n",
    "    def __init__(self, ingredients):\n",
    "        self.ingredients = ingredients\n",
    "        \n",
    "    def __repr__(self):\n",
    "        return \"Pizza({})\".format(self.ingredients)\n",
    "    \n",
    "    @classmethod\n",
    "    def margherita(cls):\n",
    "        return cls(['mozzarella', 'tomatoes'])\n",
    "    \n",
    "    @classmethod\n",
    "    def prosciutto(cls):\n",
    "        return cls(['mozzarella', 'tomatoes', 'ham'])"
   ]
  },
  {
   "cell_type": "code",
   "execution_count": 18,
   "metadata": {
    "collapsed": false
   },
   "outputs": [
    {
     "data": {
      "text/plain": [
       "Pizza(['mozzarella', 'tomatoes'])"
      ]
     },
     "execution_count": 18,
     "metadata": {},
     "output_type": "execute_result"
    }
   ],
   "source": [
    "Pizza.margherita()"
   ]
  },
  {
   "cell_type": "code",
   "execution_count": 19,
   "metadata": {
    "collapsed": false
   },
   "outputs": [
    {
     "data": {
      "text/plain": [
       "Pizza(['mozzarella', 'tomatoes', 'ham'])"
      ]
     },
     "execution_count": 19,
     "metadata": {},
     "output_type": "execute_result"
    }
   ],
   "source": [
    "Pizza.prosciutto()"
   ]
  },
  {
   "cell_type": "markdown",
   "metadata": {},
   "source": [
    "### When to use static methods"
   ]
  },
  {
   "cell_type": "code",
   "execution_count": 23,
   "metadata": {
    "collapsed": true
   },
   "outputs": [],
   "source": [
    "# The classmethod decorator is clearly useful, but I’ve never seen a\n",
    "# compelling use case for staticmethod. If you want to define a\n",
    "# function that does not interact with the class, just define it in the\n",
    "# module. Maybe the function is closely related even if it never\n",
    "# touches the class, so you want to them nearby in the code. Even so,\n",
    "# defining the function right before or after the class in the same\n",
    "# module is close enough for all practical purposes.\n",
    "\n",
    "\n",
    "# Leonardo Rochael, one of the technical reviewers of this book disagrees with my low opinion of staticme\n",
    "# thod, and recommends the blog post “The Definitive Guide on How to Use Static, Class or Abstract Methods\n",
    "# in Python” by Julien Danjou as a counter-argument. Danjou’s post is very good; I do recommend it. But it\n",
    "# wasn’t enough to change my mind about staticmethod. You’ll have to decide for yourself.\n",
    "# https://julien.danjou.info/guide-python-static-class-abstract-methods/"
   ]
  },
  {
   "cell_type": "code",
   "execution_count": 31,
   "metadata": {
    "collapsed": true
   },
   "outputs": [],
   "source": [
    "class Pizza:\n",
    "    def __init__(self, ingredients):\n",
    "        self.ingredients = ingredients\n",
    "        \n",
    "    def __repr__(self):\n",
    "        return \"Pizza({})\".format(self.ingredients)\n",
    "    \n",
    "    @staticmethod\n",
    "    def mix_ingredients(x, y):\n",
    "        return x + y\n",
    "    \n",
    "    @classmethod\n",
    "    def margherita(cls):\n",
    "        return cls(['mozzarella', 'tomatoes'])\n",
    "    \n",
    "    @classmethod\n",
    "    def prosciutto(cls):\n",
    "        return cls(['mozzarella', 'tomatoes', 'ham'])\n",
    "    \n",
    "    @classmethod\n",
    "    def margherita_with_olive_topping(cls):\n",
    "        return cls(cls.mix_ingredients(['mozzarella', 'tomatoes'], ['olive']))"
   ]
  },
  {
   "cell_type": "code",
   "execution_count": 32,
   "metadata": {
    "collapsed": false
   },
   "outputs": [
    {
     "data": {
      "text/plain": [
       "Pizza(['mozzarella', 'tomatoes'])"
      ]
     },
     "execution_count": 32,
     "metadata": {},
     "output_type": "execute_result"
    }
   ],
   "source": [
    "Pizza.margherita()"
   ]
  },
  {
   "cell_type": "code",
   "execution_count": 34,
   "metadata": {
    "collapsed": false
   },
   "outputs": [
    {
     "data": {
      "text/plain": [
       "Pizza(['mozzarella', 'tomatoes', 'olive'])"
      ]
     },
     "execution_count": 34,
     "metadata": {},
     "output_type": "execute_result"
    }
   ],
   "source": [
    "Pizza.margherita_with_olive_topping()"
   ]
  },
  {
   "cell_type": "code",
   "execution_count": 37,
   "metadata": {
    "collapsed": false
   },
   "outputs": [
    {
     "data": {
      "text/plain": [
       "True"
      ]
     },
     "execution_count": 37,
     "metadata": {},
     "output_type": "execute_result"
    }
   ],
   "source": [
    "Pizza.mix_ingredients(1, 2) is Pizza(\"test\").mix_ingredients(1, 2)"
   ]
  },
  {
   "cell_type": "code",
   "execution_count": 38,
   "metadata": {
    "collapsed": false
   },
   "outputs": [
    {
     "data": {
      "text/plain": [
       "True"
      ]
     },
     "execution_count": 38,
     "metadata": {},
     "output_type": "execute_result"
    }
   ],
   "source": [
    "Pizza([\"test\"]).mix_ingredients(1, 2) is Pizza(\"stop\").mix_ingredients(1, 2)"
   ]
  },
  {
   "cell_type": "code",
   "execution_count": 39,
   "metadata": {
    "collapsed": false
   },
   "outputs": [
    {
     "data": {
      "text/plain": [
       "False"
      ]
     },
     "execution_count": 39,
     "metadata": {},
     "output_type": "execute_result"
    }
   ],
   "source": [
    "Pizza(\"test\").margherita() is Pizza.margherita()"
   ]
  },
  {
   "cell_type": "code",
   "execution_count": 40,
   "metadata": {
    "collapsed": false
   },
   "outputs": [
    {
     "data": {
      "text/plain": [
       "False"
      ]
     },
     "execution_count": 40,
     "metadata": {},
     "output_type": "execute_result"
    }
   ],
   "source": [
    "Pizza(\"test\").margherita() is Pizza(\"test\").margherita()"
   ]
  },
  {
   "cell_type": "code",
   "execution_count": 41,
   "metadata": {
    "collapsed": false
   },
   "outputs": [
    {
     "data": {
      "text/plain": [
       "False"
      ]
     },
     "execution_count": 41,
     "metadata": {},
     "output_type": "execute_result"
    }
   ],
   "source": [
    "Pizza(\"test\").margherita() is Pizza(\"stop\").margherita()"
   ]
  },
  {
   "cell_type": "code",
   "execution_count": null,
   "metadata": {
    "collapsed": true
   },
   "outputs": [],
   "source": []
  }
 ],
 "metadata": {
  "kernelspec": {
   "display_name": "Python 3",
   "language": "python",
   "name": "python3"
  },
  "language_info": {
   "codemirror_mode": {
    "name": "ipython",
    "version": 3
   },
   "file_extension": ".py",
   "mimetype": "text/x-python",
   "name": "python",
   "nbconvert_exporter": "python",
   "pygments_lexer": "ipython3",
   "version": "3.5.2"
  }
 },
 "nbformat": 4,
 "nbformat_minor": 0
}
