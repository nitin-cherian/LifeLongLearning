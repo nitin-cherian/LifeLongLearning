{
 "cells": [
  {
   "cell_type": "code",
   "execution_count": 12,
   "metadata": {
    "collapsed": true
   },
   "outputs": [],
   "source": [
    "def group_by(iterable, key_func=None):\n",
    "    if key_func is None:\n",
    "        def key_func(x):\n",
    "            return x\n",
    "        \n",
    "    group_by_dict = {}\n",
    "    for item in iterable:\n",
    "        key = key_func(item)\n",
    "        group_by_dict.setdefault(key, []).append(item)\n",
    "    \n",
    "    return group_by_dict"
   ]
  },
  {
   "cell_type": "code",
   "execution_count": 13,
   "metadata": {
    "collapsed": false
   },
   "outputs": [
    {
     "data": {
      "text/plain": [
       "{1: [1, 1, 1], 2: [2, 2], 3: [3]}"
      ]
     },
     "execution_count": 13,
     "metadata": {},
     "output_type": "execute_result"
    }
   ],
   "source": [
    "group_by([1, 2, 1, 3, 2, 1])"
   ]
  },
  {
   "cell_type": "code",
   "execution_count": 14,
   "metadata": {
    "collapsed": true
   },
   "outputs": [],
   "source": [
    "def group_by(iterable, key_func=lambda x: x):\n",
    "    group_by_dict = {}\n",
    "    for item in iterable:\n",
    "        key = key_func(item)\n",
    "        group_by_dict.setdefault(key, []).append(item)\n",
    "    \n",
    "    return group_by_dict"
   ]
  },
  {
   "cell_type": "code",
   "execution_count": 15,
   "metadata": {
    "collapsed": false
   },
   "outputs": [
    {
     "data": {
      "text/plain": [
       "{1: [1, 1, 1], 2: [2, 2], 3: [3]}"
      ]
     },
     "execution_count": 15,
     "metadata": {},
     "output_type": "execute_result"
    }
   ],
   "source": [
    "group_by([1, 2, 1, 3, 2, 1])"
   ]
  },
  {
   "cell_type": "code",
   "execution_count": 16,
   "metadata": {
    "collapsed": true
   },
   "outputs": [],
   "source": [
    "def mod3(n): return n % 3"
   ]
  },
  {
   "cell_type": "code",
   "execution_count": 18,
   "metadata": {
    "collapsed": false
   },
   "outputs": [
    {
     "data": {
      "text/plain": [
       "{0: [6], 1: [1, 4, 19, 34, 55], 2: [5, 8]}"
      ]
     },
     "execution_count": 18,
     "metadata": {},
     "output_type": "execute_result"
    }
   ],
   "source": [
    "numbers = [1, 4, 5, 6, 8, 19, 34, 55]\n",
    "group_by(numbers, key_func=mod3)"
   ]
  },
  {
   "cell_type": "code",
   "execution_count": 19,
   "metadata": {
    "collapsed": false
   },
   "outputs": [
    {
     "name": "stderr",
     "output_type": "stream",
     "text": [
      "...\n",
      "----------------------------------------------------------------------\n",
      "Ran 3 tests in 0.005s\n",
      "\n",
      "OK\n"
     ]
    }
   ],
   "source": [
    "from operator import itemgetter\n",
    "import unittest\n",
    "\n",
    "class GroupByTests(unittest.TestCase):\n",
    "\n",
    "    \"\"\"Tests for group_by.\"\"\"\n",
    "\n",
    "    def test_test_tuples_of_strings(self):\n",
    "        animals = [\n",
    "            ('agatha', 'dog'),\n",
    "            ('kurt', 'cat'),\n",
    "            ('margaret', 'mouse'),\n",
    "            ('cory', 'cat'),\n",
    "            ('mary', 'mouse'),\n",
    "        ]\n",
    "        animals_by_type = {\n",
    "            'mouse': [('margaret', 'mouse'), ('mary', 'mouse')],\n",
    "            'dog': [('agatha', 'dog')],\n",
    "            'cat': [('kurt', 'cat'), ('cory', 'cat')],\n",
    "        }\n",
    "        output = group_by(animals, key_func=itemgetter(1))\n",
    "        self.assertEqual(output, animals_by_type)\n",
    "\n",
    "    def test_strings(self):\n",
    "        words = [\"Apple\", \"animal\", \"apple\", \"ANIMAL\", \"animal\"]\n",
    "        word_groups = {\n",
    "            \"apple\": [\"Apple\", \"apple\"],\n",
    "            \"animal\": [\"animal\", \"ANIMAL\", \"animal\"],\n",
    "        }\n",
    "        output = group_by(words, key_func=str.lower)\n",
    "        self.assertEqual(output, word_groups)\n",
    "\n",
    "    # To test the Bonus part of this exercise, comment out the following line\n",
    "    # @unittest.expectedFailure\n",
    "    def test_no_key_function(self):\n",
    "        words = [\"apple\", \"animal\", \"apple\", \"animal\", \"animal\"]\n",
    "        word_groups = {\n",
    "            \"apple\": [\"apple\", \"apple\"],\n",
    "            \"animal\": [\"animal\", \"animal\", \"animal\"],\n",
    "        }\n",
    "        output = group_by(words)\n",
    "        self.assertEqual(output, word_groups)\n",
    "\n",
    "\n",
    "if __name__ == \"__main__\":\n",
    "    unittest.main(argv=['ignore-first-argument'], exit=False)"
   ]
  },
  {
   "cell_type": "code",
   "execution_count": 28,
   "metadata": {
    "collapsed": false
   },
   "outputs": [],
   "source": [
    "from itertools import groupby\n"
   ]
  },
  {
   "cell_type": "code",
   "execution_count": 38,
   "metadata": {
    "collapsed": false
   },
   "outputs": [],
   "source": [
    "def group_by(iterable, key_func=lambda x: x):\n",
    "    group_by_it = groupby(iterable, key_func)\n",
    "    for key, group in group_by_it:\n",
    "        print (key, list(group))"
   ]
  },
  {
   "cell_type": "code",
   "execution_count": 39,
   "metadata": {
    "collapsed": false
   },
   "outputs": [
    {
     "name": "stderr",
     "output_type": "stream",
     "text": [
      "FFF"
     ]
    },
    {
     "name": "stdout",
     "output_type": "stream",
     "text": [
      "apple ['apple']\n",
      "animal ['animal']\n",
      "apple ['apple']\n",
      "animal ['animal', 'animal']\n",
      "apple ['Apple']\n",
      "animal ['animal']\n",
      "apple ['apple']\n",
      "animal ['ANIMAL', 'animal']\n",
      "dog [('agatha', 'dog')]\n",
      "cat [('kurt', 'cat')]\n",
      "mouse [('margaret', 'mouse')]\n",
      "cat [('cory', 'cat')]\n",
      "mouse [('mary', 'mouse')]\n"
     ]
    },
    {
     "name": "stderr",
     "output_type": "stream",
     "text": [
      "\n",
      "======================================================================\n",
      "FAIL: test_no_key_function (__main__.GroupByTests)\n",
      "----------------------------------------------------------------------\n",
      "Traceback (most recent call last):\n",
      "  File \"<ipython-input-39-ba497bc14450>\", line 42, in test_no_key_function\n",
      "    self.assertEqual(output, word_groups)\n",
      "AssertionError: None != {'apple': ['apple', 'apple'], 'animal': ['animal', 'animal', 'animal']}\n",
      "\n",
      "======================================================================\n",
      "FAIL: test_strings (__main__.GroupByTests)\n",
      "----------------------------------------------------------------------\n",
      "Traceback (most recent call last):\n",
      "  File \"<ipython-input-39-ba497bc14450>\", line 31, in test_strings\n",
      "    self.assertEqual(output, word_groups)\n",
      "AssertionError: None != {'apple': ['Apple', 'apple'], 'animal': ['animal', 'ANIMAL', 'animal']}\n",
      "\n",
      "======================================================================\n",
      "FAIL: test_test_tuples_of_strings (__main__.GroupByTests)\n",
      "----------------------------------------------------------------------\n",
      "Traceback (most recent call last):\n",
      "  File \"<ipython-input-39-ba497bc14450>\", line 22, in test_test_tuples_of_strings\n",
      "    self.assertEqual(output, animals_by_type)\n",
      "AssertionError: None != {'mouse': [('margaret', 'mouse'), ('mary'[78 chars]g')]}\n",
      "\n",
      "----------------------------------------------------------------------\n",
      "Ran 3 tests in 0.006s\n",
      "\n",
      "FAILED (failures=3)\n"
     ]
    }
   ],
   "source": [
    "from operator import itemgetter\n",
    "import unittest\n",
    "\n",
    "class GroupByTests(unittest.TestCase):\n",
    "\n",
    "    \"\"\"Tests for group_by.\"\"\"\n",
    "\n",
    "    def test_test_tuples_of_strings(self):\n",
    "        animals = [\n",
    "            ('agatha', 'dog'),\n",
    "            ('kurt', 'cat'),\n",
    "            ('margaret', 'mouse'),\n",
    "            ('cory', 'cat'),\n",
    "            ('mary', 'mouse'),\n",
    "        ]\n",
    "        animals_by_type = {\n",
    "            'mouse': [('margaret', 'mouse'), ('mary', 'mouse')],\n",
    "            'dog': [('agatha', 'dog')],\n",
    "            'cat': [('kurt', 'cat'), ('cory', 'cat')],\n",
    "        }\n",
    "        output = group_by(animals, key_func=itemgetter(1))\n",
    "        self.assertEqual(output, animals_by_type)\n",
    "\n",
    "    def test_strings(self):\n",
    "        words = [\"Apple\", \"animal\", \"apple\", \"ANIMAL\", \"animal\"]\n",
    "        word_groups = {\n",
    "            \"apple\": [\"Apple\", \"apple\"],\n",
    "            \"animal\": [\"animal\", \"ANIMAL\", \"animal\"],\n",
    "        }\n",
    "        output = group_by(words, key_func=str.lower)\n",
    "        self.assertEqual(output, word_groups)\n",
    "\n",
    "    # To test the Bonus part of this exercise, comment out the following line\n",
    "    # @unittest.expectedFailure\n",
    "    def test_no_key_function(self):\n",
    "        words = [\"apple\", \"animal\", \"apple\", \"animal\", \"animal\"]\n",
    "        word_groups = {\n",
    "            \"apple\": [\"apple\", \"apple\"],\n",
    "            \"animal\": [\"animal\", \"animal\", \"animal\"],\n",
    "        }\n",
    "        output = group_by(words)\n",
    "        self.assertEqual(output, word_groups)\n",
    "\n",
    "\n",
    "if __name__ == \"__main__\":\n",
    "    unittest.main(argv=['ignore-first-argument'], exit=False)"
   ]
  },
  {
   "cell_type": "code",
   "execution_count": null,
   "metadata": {
    "collapsed": true
   },
   "outputs": [],
   "source": []
  }
 ],
 "metadata": {
  "kernelspec": {
   "display_name": "Python 3",
   "language": "python",
   "name": "python3"
  },
  "language_info": {
   "codemirror_mode": {
    "name": "ipython",
    "version": 3
   },
   "file_extension": ".py",
   "mimetype": "text/x-python",
   "name": "python",
   "nbconvert_exporter": "python",
   "pygments_lexer": "ipython3",
   "version": "3.5.2"
  }
 },
 "nbformat": 4,
 "nbformat_minor": 0
}
