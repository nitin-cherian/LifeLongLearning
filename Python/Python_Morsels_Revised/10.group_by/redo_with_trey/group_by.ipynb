{
 "cells": [
  {
   "cell_type": "markdown",
   "metadata": {},
   "source": [
    "## Using defaultdict from the collections module instead of setdefault method of dict.\n",
    "\n",
    "### defaultdict gives a dictionary like object\n",
    "### This defaultdict object is kind of cool.  Whenever a missing key is accessed, defaultdict will call the callable that was given to it (list in this case) and use the return value as the new value for that key."
   ]
  },
  {
   "cell_type": "code",
   "execution_count": 6,
   "metadata": {
    "collapsed": true
   },
   "outputs": [],
   "source": [
    "from collections import defaultdict\n",
    "def group_by(iterable, key_func=lambda x: x):\n",
    "    groups = defaultdict(list)\n",
    "    \n",
    "    for item in iterable:\n",
    "        value = groups[key_func(item)]\n",
    "        print(value)\n",
    "    return groups\n"
   ]
  },
  {
   "cell_type": "code",
   "execution_count": 7,
   "metadata": {
    "collapsed": false
   },
   "outputs": [
    {
     "name": "stdout",
     "output_type": "stream",
     "text": [
      "[]\n",
      "[]\n",
      "[]\n",
      "[]\n",
      "1 []\n",
      "2 []\n"
     ]
    }
   ],
   "source": [
    "for key, value in group_by([1, 2, 1, 2]).items():\n",
    "    print(key, value)"
   ]
  },
  {
   "cell_type": "code",
   "execution_count": 8,
   "metadata": {
    "collapsed": true
   },
   "outputs": [],
   "source": [
    "def group_by(iterable, key_func=lambda x: x):\n",
    "    groups = defaultdict(list)\n",
    "    \n",
    "    for item in iterable:\n",
    "        groups[key_func(item)].append(item)\n",
    "        \n",
    "    return groups"
   ]
  },
  {
   "cell_type": "code",
   "execution_count": 9,
   "metadata": {
    "collapsed": false
   },
   "outputs": [
    {
     "name": "stdout",
     "output_type": "stream",
     "text": [
      "1 [1, 1]\n",
      "2 [2, 2]\n"
     ]
    }
   ],
   "source": [
    "for key, value in group_by([1, 2, 1, 2]).items():\n",
    "    print(key, value)"
   ]
  },
  {
   "cell_type": "code",
   "execution_count": 11,
   "metadata": {
    "collapsed": false
   },
   "outputs": [
    {
     "name": "stderr",
     "output_type": "stream",
     "text": [
      "...\n",
      "----------------------------------------------------------------------\n",
      "Ran 3 tests in 0.002s\n",
      "\n",
      "OK\n"
     ]
    }
   ],
   "source": [
    "from operator import itemgetter\n",
    "import unittest\n",
    "\n",
    "class GroupByTests(unittest.TestCase):\n",
    "\n",
    "    \"\"\"Tests for group_by.\"\"\"\n",
    "\n",
    "    def test_test_tuples_of_strings(self):\n",
    "        animals = [\n",
    "            ('agatha', 'dog'),\n",
    "            ('kurt', 'cat'),\n",
    "            ('margaret', 'mouse'),\n",
    "            ('cory', 'cat'),\n",
    "            ('mary', 'mouse'),\n",
    "        ]\n",
    "        animals_by_type = {\n",
    "            'mouse': [('margaret', 'mouse'), ('mary', 'mouse')],\n",
    "            'dog': [('agatha', 'dog')],\n",
    "            'cat': [('kurt', 'cat'), ('cory', 'cat')],\n",
    "        }\n",
    "        output = group_by(animals, key_func=itemgetter(1))\n",
    "        self.assertEqual(output, animals_by_type)\n",
    "\n",
    "    def test_strings(self):\n",
    "        words = [\"Apple\", \"animal\", \"apple\", \"ANIMAL\", \"animal\"]\n",
    "        word_groups = {\n",
    "            \"apple\": [\"Apple\", \"apple\"],\n",
    "            \"animal\": [\"animal\", \"ANIMAL\", \"animal\"],\n",
    "        }\n",
    "        output = group_by(words, key_func=str.lower)\n",
    "        self.assertEqual(output, word_groups)\n",
    "\n",
    "    # To test the Bonus part of this exercise, comment out the following line\n",
    "    # @unittest.expectedFailure\n",
    "    def test_no_key_function(self):\n",
    "        words = [\"apple\", \"animal\", \"apple\", \"animal\", \"animal\"]\n",
    "        word_groups = {\n",
    "            \"apple\": [\"apple\", \"apple\"],\n",
    "            \"animal\": [\"animal\", \"animal\", \"animal\"],\n",
    "        }\n",
    "        output = group_by(words)\n",
    "        self.assertEqual(output, word_groups)\n",
    "\n",
    "\n",
    "if __name__ == \"__main__\":\n",
    "    unittest.main(argv=['ignore-first-argument'], exit=False)"
   ]
  },
  {
   "cell_type": "code",
   "execution_count": null,
   "metadata": {
    "collapsed": true
   },
   "outputs": [],
   "source": []
  }
 ],
 "metadata": {
  "kernelspec": {
   "display_name": "Python 3",
   "language": "python",
   "name": "python3"
  },
  "language_info": {
   "codemirror_mode": {
    "name": "ipython",
    "version": 3
   },
   "file_extension": ".py",
   "mimetype": "text/x-python",
   "name": "python",
   "nbconvert_exporter": "python",
   "pygments_lexer": "ipython3",
   "version": "3.5.2"
  }
 },
 "nbformat": 4,
 "nbformat_minor": 0
}
