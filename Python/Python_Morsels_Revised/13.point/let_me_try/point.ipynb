{
 "cells": [
  {
   "cell_type": "code",
   "execution_count": 7,
   "metadata": {
    "collapsed": true
   },
   "outputs": [],
   "source": [
    "class Point:\n",
    "    \"\"\"\n",
    "    A class representing a 3-D point.\n",
    "    \"\"\"\n",
    "    def __init__(self, x, y, z):\n",
    "        self.x = x\n",
    "        self.y = y\n",
    "        self.z = z\n",
    "        \n",
    "    def __repr__(self):\n",
    "        return \"Point({}, {}, {})\".format(self.x, self.y, self.z)\n",
    "    \n",
    "    def __eq__(self, other):\n",
    "        return self.x == other.x and self.y == other.y and self.z == other.z\n",
    "    \n",
    "        "
   ]
  },
  {
   "cell_type": "code",
   "execution_count": 8,
   "metadata": {
    "collapsed": true
   },
   "outputs": [],
   "source": [
    "p1 = Point(1, 2, 3)"
   ]
  },
  {
   "cell_type": "code",
   "execution_count": 9,
   "metadata": {
    "collapsed": false
   },
   "outputs": [
    {
     "data": {
      "text/plain": [
       "Point(1, 2, 3)"
      ]
     },
     "execution_count": 9,
     "metadata": {},
     "output_type": "execute_result"
    }
   ],
   "source": [
    "p1"
   ]
  },
  {
   "cell_type": "code",
   "execution_count": 10,
   "metadata": {
    "collapsed": true
   },
   "outputs": [],
   "source": [
    "p2 = Point(1, 2, 3)"
   ]
  },
  {
   "cell_type": "code",
   "execution_count": 11,
   "metadata": {
    "collapsed": false
   },
   "outputs": [
    {
     "data": {
      "text/plain": [
       "True"
      ]
     },
     "execution_count": 11,
     "metadata": {},
     "output_type": "execute_result"
    }
   ],
   "source": [
    "p1 == p2"
   ]
  },
  {
   "cell_type": "code",
   "execution_count": 12,
   "metadata": {
    "collapsed": true
   },
   "outputs": [],
   "source": [
    "p2.x = 4"
   ]
  },
  {
   "cell_type": "code",
   "execution_count": 13,
   "metadata": {
    "collapsed": false
   },
   "outputs": [
    {
     "data": {
      "text/plain": [
       "False"
      ]
     },
     "execution_count": 13,
     "metadata": {},
     "output_type": "execute_result"
    }
   ],
   "source": [
    "p1 == p2"
   ]
  },
  {
   "cell_type": "code",
   "execution_count": 14,
   "metadata": {
    "collapsed": false
   },
   "outputs": [
    {
     "data": {
      "text/plain": [
       "Point(4, 2, 3)"
      ]
     },
     "execution_count": 14,
     "metadata": {},
     "output_type": "execute_result"
    }
   ],
   "source": [
    "p2"
   ]
  },
  {
   "cell_type": "markdown",
   "metadata": {},
   "source": [
    "## Unit Test"
   ]
  },
  {
   "cell_type": "code",
   "execution_count": 16,
   "metadata": {
    "collapsed": false
   },
   "outputs": [
    {
     "name": "stderr",
     "output_type": "stream",
     "text": [
      "..xxx.\n",
      "----------------------------------------------------------------------\n",
      "Ran 6 tests in 0.004s\n",
      "\n",
      "OK (expected failures=3)\n"
     ]
    }
   ],
   "source": [
    "import unittest\n",
    "\n",
    "class PointTests(unittest.TestCase):\n",
    "\n",
    "    \"\"\"Tests for Point.\"\"\"\n",
    "\n",
    "    def test_attributes(self):\n",
    "        point = Point(1, 2, 3)\n",
    "        self.assertEqual((point.x, point.y, point.z), (1, 2, 3))\n",
    "        point.x = 4\n",
    "        self.assertEqual(point.x, 4)\n",
    "\n",
    "    def test_string_representation(self):\n",
    "        point = Point(1, 2, 3)\n",
    "        self.assertEqual(str(point), 'Point(1, 2, 3)')\n",
    "        self.assertEqual(repr(point), 'Point(1, 2, 3)')\n",
    "        point.y = 4\n",
    "        self.assertEqual(str(point), 'Point(1, 4, 3)')\n",
    "        self.assertEqual(repr(point), 'Point(1, 4, 3)')\n",
    "\n",
    "    def test_equality_and_inequality(self):\n",
    "        p1 = Point(1, 2, 3)\n",
    "        p2 = Point(1, 2, 4)\n",
    "        p3 = Point(1, 2, 3)\n",
    "        self.assertNotEqual(Point(1, 2, 3), Point(1, 2, 4))\n",
    "        self.assertEqual(Point(1, 2, 3), Point(1, 2, 3))\n",
    "        self.assertFalse(Point(1, 2, 3) != Point(1, 2, 3))\n",
    "        self.assertNotEqual(p1, p2)\n",
    "        self.assertEqual(p1, p3)\n",
    "        p3.x, p3.z = p3.z, p3.x\n",
    "        self.assertNotEqual(p1, p3)\n",
    "        self.assertTrue(p1 != p3)\n",
    "        self.assertFalse(p1 == p3)\n",
    "\n",
    "    # To test the Bonus part of this exercise, comment out the following line\n",
    "    @unittest.expectedFailure\n",
    "    def test_shifting(self):\n",
    "        p1 = Point(1, 2, 3)\n",
    "        p2 = Point(4, 5, 6)\n",
    "        p3 = p2 + p1\n",
    "        p4 = p3 - p1\n",
    "        self.assertEqual((p3.x, p3.y, p3.z), (5, 7, 9))\n",
    "        self.assertEqual((p4.x, p4.y, p4.z), (p2.x, p2.y, p2.z))\n",
    "\n",
    "    # To test the Bonus part of this exercise, comment out the following line\n",
    "    @unittest.expectedFailure\n",
    "    def test_scale(self):\n",
    "        p1 = Point(1, 2, 3)\n",
    "        p2 = p1 * 2\n",
    "        self.assertEqual((p2.x, p2.y, p2.z), (2, 4, 6))\n",
    "        p3 = 3 * p1\n",
    "        self.assertEqual((p3.x, p3.y, p3.z), (3, 6, 9))\n",
    "\n",
    "    # To test the Bonus part of this exercise, comment out the following line\n",
    "    @unittest.expectedFailure\n",
    "    def test_iterable_point(self):\n",
    "        point = Point(x=1, y=2, z=3)\n",
    "        x, y, z = point\n",
    "        self.assertEqual((x, y, z), (1, 2, 3))\n",
    "\n",
    "\n",
    "if __name__ == \"__main__\":\n",
    "    unittest.main(argv=['ignore-first-argument'], exit=False)"
   ]
  },
  {
   "cell_type": "markdown",
   "metadata": {},
   "source": [
    "# Bonus1: Point objects to be added and subtracted from each other"
   ]
  },
  {
   "cell_type": "code",
   "execution_count": 17,
   "metadata": {
    "collapsed": true
   },
   "outputs": [],
   "source": [
    "class Point:\n",
    "    \"\"\"\n",
    "    A class representing a 3-D point.\n",
    "    \"\"\"\n",
    "    def __init__(self, x, y, z):\n",
    "        self.x = x\n",
    "        self.y = y\n",
    "        self.z = z\n",
    "        \n",
    "    def __repr__(self):\n",
    "        return \"Point({}, {}, {})\".format(self.x, self.y, self.z)\n",
    "    \n",
    "    def __eq__(self, other):\n",
    "        return self.x == other.x and self.y == other.y and self.z == other.z\n",
    "    \n",
    "    def __add__(self, other):\n",
    "        return Point(\n",
    "            self.x + other.x,\n",
    "            self.y + other.y,\n",
    "            self.z + other.z\n",
    "        )\n",
    "    \n",
    "    def __sub__(self, other):\n",
    "        return Point(\n",
    "            self.x - other.x,\n",
    "            self.y - other.y,\n",
    "            self.z - other.z\n",
    "        )"
   ]
  },
  {
   "cell_type": "code",
   "execution_count": 18,
   "metadata": {
    "collapsed": true
   },
   "outputs": [],
   "source": [
    "p1 = Point(1, 2, 3)"
   ]
  },
  {
   "cell_type": "code",
   "execution_count": 19,
   "metadata": {
    "collapsed": true
   },
   "outputs": [],
   "source": [
    "p2 = Point(4, 5, 6)"
   ]
  },
  {
   "cell_type": "code",
   "execution_count": 20,
   "metadata": {
    "collapsed": false
   },
   "outputs": [
    {
     "data": {
      "text/plain": [
       "Point(5, 7, 9)"
      ]
     },
     "execution_count": 20,
     "metadata": {},
     "output_type": "execute_result"
    }
   ],
   "source": [
    "p1 + p2"
   ]
  },
  {
   "cell_type": "code",
   "execution_count": 21,
   "metadata": {
    "collapsed": true
   },
   "outputs": [],
   "source": [
    "p3 = p2 - p1"
   ]
  },
  {
   "cell_type": "code",
   "execution_count": 22,
   "metadata": {
    "collapsed": false
   },
   "outputs": [
    {
     "data": {
      "text/plain": [
       "Point(3, 3, 3)"
      ]
     },
     "execution_count": 22,
     "metadata": {},
     "output_type": "execute_result"
    }
   ],
   "source": [
    "p3\n"
   ]
  },
  {
   "cell_type": "markdown",
   "metadata": {},
   "source": [
    "## Unit Test"
   ]
  },
  {
   "cell_type": "code",
   "execution_count": 23,
   "metadata": {
    "collapsed": false
   },
   "outputs": [
    {
     "name": "stderr",
     "output_type": "stream",
     "text": [
      "..xx..\n",
      "----------------------------------------------------------------------\n",
      "Ran 6 tests in 0.017s\n",
      "\n",
      "OK (expected failures=2)\n"
     ]
    }
   ],
   "source": [
    "import unittest\n",
    "\n",
    "class PointTests(unittest.TestCase):\n",
    "\n",
    "    \"\"\"Tests for Point.\"\"\"\n",
    "\n",
    "    def test_attributes(self):\n",
    "        point = Point(1, 2, 3)\n",
    "        self.assertEqual((point.x, point.y, point.z), (1, 2, 3))\n",
    "        point.x = 4\n",
    "        self.assertEqual(point.x, 4)\n",
    "\n",
    "    def test_string_representation(self):\n",
    "        point = Point(1, 2, 3)\n",
    "        self.assertEqual(str(point), 'Point(1, 2, 3)')\n",
    "        self.assertEqual(repr(point), 'Point(1, 2, 3)')\n",
    "        point.y = 4\n",
    "        self.assertEqual(str(point), 'Point(1, 4, 3)')\n",
    "        self.assertEqual(repr(point), 'Point(1, 4, 3)')\n",
    "\n",
    "    def test_equality_and_inequality(self):\n",
    "        p1 = Point(1, 2, 3)\n",
    "        p2 = Point(1, 2, 4)\n",
    "        p3 = Point(1, 2, 3)\n",
    "        self.assertNotEqual(Point(1, 2, 3), Point(1, 2, 4))\n",
    "        self.assertEqual(Point(1, 2, 3), Point(1, 2, 3))\n",
    "        self.assertFalse(Point(1, 2, 3) != Point(1, 2, 3))\n",
    "        self.assertNotEqual(p1, p2)\n",
    "        self.assertEqual(p1, p3)\n",
    "        p3.x, p3.z = p3.z, p3.x\n",
    "        self.assertNotEqual(p1, p3)\n",
    "        self.assertTrue(p1 != p3)\n",
    "        self.assertFalse(p1 == p3)\n",
    "\n",
    "    # To test the Bonus part of this exercise, comment out the following line\n",
    "    # @unittest.expectedFailure\n",
    "    def test_shifting(self):\n",
    "        p1 = Point(1, 2, 3)\n",
    "        p2 = Point(4, 5, 6)\n",
    "        p3 = p2 + p1\n",
    "        p4 = p3 - p1\n",
    "        self.assertEqual((p3.x, p3.y, p3.z), (5, 7, 9))\n",
    "        self.assertEqual((p4.x, p4.y, p4.z), (p2.x, p2.y, p2.z))\n",
    "\n",
    "    # To test the Bonus part of this exercise, comment out the following line\n",
    "    @unittest.expectedFailure\n",
    "    def test_scale(self):\n",
    "        p1 = Point(1, 2, 3)\n",
    "        p2 = p1 * 2\n",
    "        self.assertEqual((p2.x, p2.y, p2.z), (2, 4, 6))\n",
    "        p3 = 3 * p1\n",
    "        self.assertEqual((p3.x, p3.y, p3.z), (3, 6, 9))\n",
    "\n",
    "    # To test the Bonus part of this exercise, comment out the following line\n",
    "    @unittest.expectedFailure\n",
    "    def test_iterable_point(self):\n",
    "        point = Point(x=1, y=2, z=3)\n",
    "        x, y, z = point\n",
    "        self.assertEqual((x, y, z), (1, 2, 3))\n",
    "\n",
    "\n",
    "if __name__ == \"__main__\":\n",
    "    unittest.main(argv=['ignore-first-argument'], exit=False)"
   ]
  },
  {
   "cell_type": "markdown",
   "metadata": {},
   "source": [
    "# Bonus2: Point objects to be scaled up and down by numbers."
   ]
  },
  {
   "cell_type": "code",
   "execution_count": 24,
   "metadata": {
    "collapsed": true
   },
   "outputs": [],
   "source": [
    "class Point:\n",
    "    \"\"\"\n",
    "    A class representing a 3-D point.\n",
    "    \"\"\"\n",
    "    def __init__(self, x, y, z):\n",
    "        self.x = x\n",
    "        self.y = y\n",
    "        self.z = z\n",
    "        \n",
    "    def __repr__(self):\n",
    "        return \"Point({}, {}, {})\".format(self.x, self.y, self.z)\n",
    "    \n",
    "    def __eq__(self, other):\n",
    "        return self.x == other.x and self.y == other.y and self.z == other.z\n",
    "    \n",
    "    def __add__(self, other):\n",
    "        return Point(\n",
    "            self.x + other.x,\n",
    "            self.y + other.y,\n",
    "            self.z + other.z\n",
    "        )\n",
    "    \n",
    "    def __sub__(self, other):\n",
    "        return Point(\n",
    "            self.x - other.x,\n",
    "            self.y - other.y,\n",
    "            self.z - other.z\n",
    "        )\n",
    "    \n",
    "    def __mul__(self, scalar):\n",
    "        return Point(\n",
    "            self.x * scalar,\n",
    "            self.y * scalar,\n",
    "            self.z * scalar\n",
    "        )"
   ]
  },
  {
   "cell_type": "code",
   "execution_count": 25,
   "metadata": {
    "collapsed": true
   },
   "outputs": [],
   "source": [
    "p1 = Point(1, 2, 3)"
   ]
  },
  {
   "cell_type": "code",
   "execution_count": 26,
   "metadata": {
    "collapsed": true
   },
   "outputs": [],
   "source": [
    "p2 = p1 * 2"
   ]
  },
  {
   "cell_type": "code",
   "execution_count": 27,
   "metadata": {
    "collapsed": false
   },
   "outputs": [
    {
     "data": {
      "text/plain": [
       "Point(2, 4, 6)"
      ]
     },
     "execution_count": 27,
     "metadata": {},
     "output_type": "execute_result"
    }
   ],
   "source": [
    "p2"
   ]
  },
  {
   "cell_type": "markdown",
   "metadata": {},
   "source": [
    "## Unit Test"
   ]
  },
  {
   "cell_type": "code",
   "execution_count": 28,
   "metadata": {
    "collapsed": false
   },
   "outputs": [
    {
     "name": "stderr",
     "output_type": "stream",
     "text": [
      "..xE..\n",
      "======================================================================\n",
      "ERROR: test_scale (__main__.PointTests)\n",
      "----------------------------------------------------------------------\n",
      "Traceback (most recent call last):\n",
      "  File \"<ipython-input-28-d0ef50562dd3>\", line 51, in test_scale\n",
      "    p3 = 3 * p1\n",
      "TypeError: unsupported operand type(s) for *: 'int' and 'Point'\n",
      "\n",
      "----------------------------------------------------------------------\n",
      "Ran 6 tests in 0.004s\n",
      "\n",
      "FAILED (errors=1, expected failures=1)\n"
     ]
    }
   ],
   "source": [
    "import unittest\n",
    "\n",
    "class PointTests(unittest.TestCase):\n",
    "\n",
    "    \"\"\"Tests for Point.\"\"\"\n",
    "\n",
    "    def test_attributes(self):\n",
    "        point = Point(1, 2, 3)\n",
    "        self.assertEqual((point.x, point.y, point.z), (1, 2, 3))\n",
    "        point.x = 4\n",
    "        self.assertEqual(point.x, 4)\n",
    "\n",
    "    def test_string_representation(self):\n",
    "        point = Point(1, 2, 3)\n",
    "        self.assertEqual(str(point), 'Point(1, 2, 3)')\n",
    "        self.assertEqual(repr(point), 'Point(1, 2, 3)')\n",
    "        point.y = 4\n",
    "        self.assertEqual(str(point), 'Point(1, 4, 3)')\n",
    "        self.assertEqual(repr(point), 'Point(1, 4, 3)')\n",
    "\n",
    "    def test_equality_and_inequality(self):\n",
    "        p1 = Point(1, 2, 3)\n",
    "        p2 = Point(1, 2, 4)\n",
    "        p3 = Point(1, 2, 3)\n",
    "        self.assertNotEqual(Point(1, 2, 3), Point(1, 2, 4))\n",
    "        self.assertEqual(Point(1, 2, 3), Point(1, 2, 3))\n",
    "        self.assertFalse(Point(1, 2, 3) != Point(1, 2, 3))\n",
    "        self.assertNotEqual(p1, p2)\n",
    "        self.assertEqual(p1, p3)\n",
    "        p3.x, p3.z = p3.z, p3.x\n",
    "        self.assertNotEqual(p1, p3)\n",
    "        self.assertTrue(p1 != p3)\n",
    "        self.assertFalse(p1 == p3)\n",
    "\n",
    "    # To test the Bonus part of this exercise, comment out the following line\n",
    "    # @unittest.expectedFailure\n",
    "    def test_shifting(self):\n",
    "        p1 = Point(1, 2, 3)\n",
    "        p2 = Point(4, 5, 6)\n",
    "        p3 = p2 + p1\n",
    "        p4 = p3 - p1\n",
    "        self.assertEqual((p3.x, p3.y, p3.z), (5, 7, 9))\n",
    "        self.assertEqual((p4.x, p4.y, p4.z), (p2.x, p2.y, p2.z))\n",
    "\n",
    "    # To test the Bonus part of this exercise, comment out the following line\n",
    "    # @unittest.expectedFailure\n",
    "    def test_scale(self):\n",
    "        p1 = Point(1, 2, 3)\n",
    "        p2 = p1 * 2\n",
    "        self.assertEqual((p2.x, p2.y, p2.z), (2, 4, 6))\n",
    "        p3 = 3 * p1\n",
    "        self.assertEqual((p3.x, p3.y, p3.z), (3, 6, 9))\n",
    "\n",
    "    # To test the Bonus part of this exercise, comment out the following line\n",
    "    @unittest.expectedFailure\n",
    "    def test_iterable_point(self):\n",
    "        point = Point(x=1, y=2, z=3)\n",
    "        x, y, z = point\n",
    "        self.assertEqual((x, y, z), (1, 2, 3))\n",
    "\n",
    "\n",
    "if __name__ == \"__main__\":\n",
    "    unittest.main(argv=['ignore-first-argument'], exit=False)"
   ]
  },
  {
   "cell_type": "markdown",
   "metadata": {},
   "source": [
    "### Unit Test Case Failed: Do modification"
   ]
  },
  {
   "cell_type": "code",
   "execution_count": 2,
   "metadata": {
    "collapsed": true
   },
   "outputs": [],
   "source": [
    "class Point:\n",
    "    \"\"\"\n",
    "    A class representing a 3-D point.\n",
    "    \"\"\"\n",
    "    def __init__(self, x, y, z):\n",
    "        self.x = x\n",
    "        self.y = y\n",
    "        self.z = z\n",
    "        \n",
    "    def __repr__(self):\n",
    "        return \"Point({}, {}, {})\".format(self.x, self.y, self.z)\n",
    "    \n",
    "    def __eq__(self, other):\n",
    "        return self.x == other.x and self.y == other.y and self.z == other.z\n",
    "    \n",
    "    def __add__(self, other):\n",
    "        return Point(\n",
    "            self.x + other.x,\n",
    "            self.y + other.y,\n",
    "            self.z + other.z\n",
    "        )\n",
    "    \n",
    "    def __sub__(self, other):\n",
    "        return Point(\n",
    "            self.x - other.x,\n",
    "            self.y - other.y,\n",
    "            self.z - other.z\n",
    "        )\n",
    "    \n",
    "    def __mul__(self, scalar):\n",
    "        return Point(\n",
    "            self.x * scalar,\n",
    "            self.y * scalar,\n",
    "            self.z * scalar\n",
    "        )\n",
    "    \n",
    "    def __rmul__(self, scalar):\n",
    "         return Point(\n",
    "            self.x * scalar,\n",
    "            self.y * scalar,\n",
    "            self.z * scalar\n",
    "        )"
   ]
  },
  {
   "cell_type": "code",
   "execution_count": 30,
   "metadata": {
    "collapsed": false
   },
   "outputs": [
    {
     "name": "stderr",
     "output_type": "stream",
     "text": [
      "..x...\n",
      "----------------------------------------------------------------------\n",
      "Ran 6 tests in 0.006s\n",
      "\n",
      "OK (expected failures=1)\n"
     ]
    }
   ],
   "source": [
    "import unittest\n",
    "\n",
    "class PointTests(unittest.TestCase):\n",
    "\n",
    "    \"\"\"Tests for Point.\"\"\"\n",
    "\n",
    "    def test_attributes(self):\n",
    "        point = Point(1, 2, 3)\n",
    "        self.assertEqual((point.x, point.y, point.z), (1, 2, 3))\n",
    "        point.x = 4\n",
    "        self.assertEqual(point.x, 4)\n",
    "\n",
    "    def test_string_representation(self):\n",
    "        point = Point(1, 2, 3)\n",
    "        self.assertEqual(str(point), 'Point(1, 2, 3)')\n",
    "        self.assertEqual(repr(point), 'Point(1, 2, 3)')\n",
    "        point.y = 4\n",
    "        self.assertEqual(str(point), 'Point(1, 4, 3)')\n",
    "        self.assertEqual(repr(point), 'Point(1, 4, 3)')\n",
    "\n",
    "    def test_equality_and_inequality(self):\n",
    "        p1 = Point(1, 2, 3)\n",
    "        p2 = Point(1, 2, 4)\n",
    "        p3 = Point(1, 2, 3)\n",
    "        self.assertNotEqual(Point(1, 2, 3), Point(1, 2, 4))\n",
    "        self.assertEqual(Point(1, 2, 3), Point(1, 2, 3))\n",
    "        self.assertFalse(Point(1, 2, 3) != Point(1, 2, 3))\n",
    "        self.assertNotEqual(p1, p2)\n",
    "        self.assertEqual(p1, p3)\n",
    "        p3.x, p3.z = p3.z, p3.x\n",
    "        self.assertNotEqual(p1, p3)\n",
    "        self.assertTrue(p1 != p3)\n",
    "        self.assertFalse(p1 == p3)\n",
    "\n",
    "    # To test the Bonus part of this exercise, comment out the following line\n",
    "    # @unittest.expectedFailure\n",
    "    def test_shifting(self):\n",
    "        p1 = Point(1, 2, 3)\n",
    "        p2 = Point(4, 5, 6)\n",
    "        p3 = p2 + p1\n",
    "        p4 = p3 - p1\n",
    "        self.assertEqual((p3.x, p3.y, p3.z), (5, 7, 9))\n",
    "        self.assertEqual((p4.x, p4.y, p4.z), (p2.x, p2.y, p2.z))\n",
    "\n",
    "    # To test the Bonus part of this exercise, comment out the following line\n",
    "    # @unittest.expectedFailure\n",
    "    def test_scale(self):\n",
    "        p1 = Point(1, 2, 3)\n",
    "        p2 = p1 * 2\n",
    "        self.assertEqual((p2.x, p2.y, p2.z), (2, 4, 6))\n",
    "        p3 = 3 * p1\n",
    "        self.assertEqual((p3.x, p3.y, p3.z), (3, 6, 9))\n",
    "\n",
    "    # To test the Bonus part of this exercise, comment out the following line\n",
    "    @unittest.expectedFailure\n",
    "    def test_iterable_point(self):\n",
    "        point = Point(x=1, y=2, z=3)\n",
    "        x, y, z = point\n",
    "        self.assertEqual((x, y, z), (1, 2, 3))\n",
    "\n",
    "\n",
    "if __name__ == \"__main__\":\n",
    "    unittest.main(argv=['ignore-first-argument'], exit=False)"
   ]
  },
  {
   "cell_type": "markdown",
   "metadata": {
    "collapsed": true
   },
   "source": [
    "# Bonus3: allow Point objects to be unpacked using multiple assignment like this ✔️:\n",
    "#### >>> p1 = Point(1, 2, 3)\n",
    "#### >>> x, y, z = p1\n",
    "#### >>> (x, y, z)\n",
    "#### (1, 2, 3)"
   ]
  },
  {
   "cell_type": "code",
   "execution_count": 3,
   "metadata": {
    "collapsed": false
   },
   "outputs": [
    {
     "ename": "TypeError",
     "evalue": "'Point' object is not iterable",
     "output_type": "error",
     "traceback": [
      "\u001b[1;31m---------------------------------------------------------------------------\u001b[0m",
      "\u001b[1;31mTypeError\u001b[0m                                 Traceback (most recent call last)",
      "\u001b[1;32m<ipython-input-3-50b6cdc6d6a5>\u001b[0m in \u001b[0;36m<module>\u001b[1;34m()\u001b[0m\n\u001b[0;32m      1\u001b[0m \u001b[0mp1\u001b[0m \u001b[1;33m=\u001b[0m \u001b[0mPoint\u001b[0m\u001b[1;33m(\u001b[0m\u001b[1;36m1\u001b[0m\u001b[1;33m,\u001b[0m \u001b[1;36m2\u001b[0m\u001b[1;33m,\u001b[0m \u001b[1;36m3\u001b[0m\u001b[1;33m)\u001b[0m\u001b[1;33m\u001b[0m\u001b[0m\n\u001b[1;32m----> 2\u001b[1;33m \u001b[0mx\u001b[0m\u001b[1;33m,\u001b[0m \u001b[0my\u001b[0m\u001b[1;33m,\u001b[0m \u001b[0mz\u001b[0m \u001b[1;33m=\u001b[0m \u001b[0mp1\u001b[0m\u001b[1;33m\u001b[0m\u001b[0m\n\u001b[0m\u001b[0;32m      3\u001b[0m \u001b[0mx\u001b[0m\u001b[1;33m,\u001b[0m \u001b[0my\u001b[0m\u001b[1;33m,\u001b[0m \u001b[0mz\u001b[0m\u001b[1;33m\u001b[0m\u001b[0m\n",
      "\u001b[1;31mTypeError\u001b[0m: 'Point' object is not iterable"
     ]
    }
   ],
   "source": [
    "p1 = Point(1, 2, 3)\n",
    "x, y, z = p1\n",
    "x, y, z"
   ]
  },
  {
   "cell_type": "code",
   "execution_count": 6,
   "metadata": {
    "collapsed": true
   },
   "outputs": [],
   "source": [
    "class Point:\n",
    "    \"\"\"\n",
    "    A class representing a 3-D point.\n",
    "    \"\"\"\n",
    "    def __init__(self, x, y, z):\n",
    "        self.x = x\n",
    "        self.y = y\n",
    "        self.z = z\n",
    "        \n",
    "    def __repr__(self):\n",
    "        return \"Point({}, {}, {})\".format(self.x, self.y, self.z)\n",
    "    \n",
    "    def __eq__(self, other):\n",
    "        return self.x == other.x and self.y == other.y and self.z == other.z\n",
    "    \n",
    "    def __add__(self, other):\n",
    "        return Point(\n",
    "            self.x + other.x,\n",
    "            self.y + other.y,\n",
    "            self.z + other.z\n",
    "        )\n",
    "    \n",
    "    def __sub__(self, other):\n",
    "        return Point(\n",
    "            self.x - other.x,\n",
    "            self.y - other.y,\n",
    "            self.z - other.z\n",
    "        )\n",
    "    \n",
    "    def __mul__(self, scalar):\n",
    "        return Point(\n",
    "            self.x * scalar,\n",
    "            self.y * scalar,\n",
    "            self.z * scalar\n",
    "        )\n",
    "    \n",
    "    def __rmul__(self, scalar):\n",
    "         return Point(\n",
    "            self.x * scalar,\n",
    "            self.y * scalar,\n",
    "            self.z * scalar\n",
    "        )\n",
    "        \n",
    "    def __iter__(self):\n",
    "        return iter((self.x, self.y, self.z))"
   ]
  },
  {
   "cell_type": "code",
   "execution_count": 7,
   "metadata": {
    "collapsed": false
   },
   "outputs": [
    {
     "data": {
      "text/plain": [
       "(1, 2, 3)"
      ]
     },
     "execution_count": 7,
     "metadata": {},
     "output_type": "execute_result"
    }
   ],
   "source": [
    "p1 = Point(1, 2, 3)\n",
    "x, y, z = p1\n",
    "x, y, z"
   ]
  },
  {
   "cell_type": "markdown",
   "metadata": {},
   "source": [
    "## Unit Test"
   ]
  },
  {
   "cell_type": "code",
   "execution_count": 8,
   "metadata": {
    "collapsed": false
   },
   "outputs": [
    {
     "name": "stderr",
     "output_type": "stream",
     "text": [
      "......\n",
      "----------------------------------------------------------------------\n",
      "Ran 6 tests in 0.009s\n",
      "\n",
      "OK\n"
     ]
    }
   ],
   "source": [
    "import unittest\n",
    "\n",
    "class PointTests(unittest.TestCase):\n",
    "\n",
    "    \"\"\"Tests for Point.\"\"\"\n",
    "\n",
    "    def test_attributes(self):\n",
    "        point = Point(1, 2, 3)\n",
    "        self.assertEqual((point.x, point.y, point.z), (1, 2, 3))\n",
    "        point.x = 4\n",
    "        self.assertEqual(point.x, 4)\n",
    "\n",
    "    def test_string_representation(self):\n",
    "        point = Point(1, 2, 3)\n",
    "        self.assertEqual(str(point), 'Point(1, 2, 3)')\n",
    "        self.assertEqual(repr(point), 'Point(1, 2, 3)')\n",
    "        point.y = 4\n",
    "        self.assertEqual(str(point), 'Point(1, 4, 3)')\n",
    "        self.assertEqual(repr(point), 'Point(1, 4, 3)')\n",
    "\n",
    "    def test_equality_and_inequality(self):\n",
    "        p1 = Point(1, 2, 3)\n",
    "        p2 = Point(1, 2, 4)\n",
    "        p3 = Point(1, 2, 3)\n",
    "        self.assertNotEqual(Point(1, 2, 3), Point(1, 2, 4))\n",
    "        self.assertEqual(Point(1, 2, 3), Point(1, 2, 3))\n",
    "        self.assertFalse(Point(1, 2, 3) != Point(1, 2, 3))\n",
    "        self.assertNotEqual(p1, p2)\n",
    "        self.assertEqual(p1, p3)\n",
    "        p3.x, p3.z = p3.z, p3.x\n",
    "        self.assertNotEqual(p1, p3)\n",
    "        self.assertTrue(p1 != p3)\n",
    "        self.assertFalse(p1 == p3)\n",
    "\n",
    "    # To test the Bonus part of this exercise, comment out the following line\n",
    "    # @unittest.expectedFailure\n",
    "    def test_shifting(self):\n",
    "        p1 = Point(1, 2, 3)\n",
    "        p2 = Point(4, 5, 6)\n",
    "        p3 = p2 + p1\n",
    "        p4 = p3 - p1\n",
    "        self.assertEqual((p3.x, p3.y, p3.z), (5, 7, 9))\n",
    "        self.assertEqual((p4.x, p4.y, p4.z), (p2.x, p2.y, p2.z))\n",
    "\n",
    "    # To test the Bonus part of this exercise, comment out the following line\n",
    "    # @unittest.expectedFailure\n",
    "    def test_scale(self):\n",
    "        p1 = Point(1, 2, 3)\n",
    "        p2 = p1 * 2\n",
    "        self.assertEqual((p2.x, p2.y, p2.z), (2, 4, 6))\n",
    "        p3 = 3 * p1\n",
    "        self.assertEqual((p3.x, p3.y, p3.z), (3, 6, 9))\n",
    "\n",
    "    # To test the Bonus part of this exercise, comment out the following line\n",
    "    # @unittest.expectedFailure\n",
    "    def test_iterable_point(self):\n",
    "        point = Point(x=1, y=2, z=3)\n",
    "        x, y, z = point\n",
    "        self.assertEqual((x, y, z), (1, 2, 3))\n",
    "\n",
    "\n",
    "if __name__ == \"__main__\":\n",
    "    unittest.main(argv=['ignore-first-argument'], exit=False)"
   ]
  },
  {
   "cell_type": "code",
   "execution_count": null,
   "metadata": {
    "collapsed": true
   },
   "outputs": [],
   "source": []
  }
 ],
 "metadata": {
  "kernelspec": {
   "display_name": "Python 3",
   "language": "python",
   "name": "python3"
  },
  "language_info": {
   "codemirror_mode": {
    "name": "ipython",
    "version": 3
   },
   "file_extension": ".py",
   "mimetype": "text/x-python",
   "name": "python",
   "nbconvert_exporter": "python",
   "pygments_lexer": "ipython3",
   "version": "3.5.2"
  }
 },
 "nbformat": 4,
 "nbformat_minor": 0
}
