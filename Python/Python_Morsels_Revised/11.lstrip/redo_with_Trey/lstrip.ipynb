{
 "cells": [
  {
   "cell_type": "markdown",
   "metadata": {},
   "source": [
    "# Using the iterator protocol\n",
    "# ======================\n",
    "### Loop through the iterator, skip the items in iterator until an item that does not match the skip_value is found. "
   ]
  },
  {
   "cell_type": "code",
   "execution_count": 3,
   "metadata": {
    "collapsed": false
   },
   "outputs": [],
   "source": [
    "def lstrip(iterable, strip_value):\n",
    "    \"\"\" Return iterable with strip_value removed from the beginnning\"\"\"\n",
    "    stripped = []\n",
    "    iterator = iter(iterable)\n",
    "    for item in iterator:\n",
    "        if not item == strip_value:\n",
    "            stripped.append(item)\n",
    "            break\n",
    "            \n",
    "    for item in iterator:\n",
    "        stripped.append(item)\n",
    "        \n",
    "    return stripped"
   ]
  },
  {
   "cell_type": "code",
   "execution_count": 4,
   "metadata": {
    "collapsed": false
   },
   "outputs": [
    {
     "name": "stderr",
     "output_type": "stream",
     "text": [
      ".x....x..\n",
      "----------------------------------------------------------------------\n",
      "Ran 9 tests in 0.004s\n",
      "\n",
      "OK (expected failures=2)\n"
     ]
    }
   ],
   "source": [
    "import unittest\n",
    "\n",
    "class LStripTests(unittest.TestCase):\n",
    "\n",
    "    \"\"\"Tests for lstrip.\"\"\"\n",
    "\n",
    "    def assertIterableEqual(self, iterable1, iterable2):\n",
    "        self.assertEqual(list(iterable1), list(iterable2))\n",
    "\n",
    "    def test_list(self):\n",
    "        self.assertIterableEqual(lstrip([1, 1, 2, 3], 1), [2, 3])\n",
    "\n",
    "    def test_nothing_to_strip(self):\n",
    "        self.assertIterableEqual(lstrip([1, 2, 3], 0), [1, 2, 3])\n",
    "\n",
    "    def test_string(self):\n",
    "        self.assertIterableEqual(lstrip('  hello', ' '), 'hello')\n",
    "\n",
    "    def test_empty_iterable(self):\n",
    "        self.assertIterableEqual(lstrip([], 1), [])\n",
    "\n",
    "    def test_strip_all(self):\n",
    "        self.assertIterableEqual(lstrip([1, 1, 1], 1), [])\n",
    "\n",
    "    def test_none_values(self):\n",
    "        self.assertIterableEqual(lstrip([None, 1, 2, 3], 0), [None, 1, 2, 3])\n",
    "\n",
    "    def test_iterator(self):\n",
    "        squares = (n**2 for n in [0, 0, 1, 2, 3])\n",
    "        self.assertIterableEqual(lstrip(squares, 0), [1, 4, 9])\n",
    "\n",
    "    # To test the Bonus part of this exercise, comment out the following line\n",
    "    @unittest.expectedFailure\n",
    "    def test_returns_iterator(self):\n",
    "        stripped = lstrip((1, 2, 3), 1)\n",
    "        self.assertEqual(iter(stripped), iter(stripped))\n",
    "\n",
    "    # To test the Bonus part of this exercise, comment out the following line\n",
    "    @unittest.expectedFailure\n",
    "    def test_function_given(self):\n",
    "        numbers = [0, 2, 4, 1, 3, 5, 6]\n",
    "        def is_even(n): return n % 2 == 0\n",
    "        self.assertIterableEqual(lstrip(numbers, is_even), [1, 3, 5, 6])\n",
    "\n",
    "\n",
    "if __name__ == \"__main__\":\n",
    "    unittest.main(argv=['ignore-first-arg'], exit=False)"
   ]
  },
  {
   "cell_type": "markdown",
   "metadata": {},
   "source": [
    "## Bonus1: The lstrip function should return an iterator"
   ]
  },
  {
   "cell_type": "code",
   "execution_count": 5,
   "metadata": {
    "collapsed": true
   },
   "outputs": [],
   "source": [
    "def lstrip(iterable, strip_value):\n",
    "    \"\"\" Return iterable with strip_value removed from the beginnning\"\"\"\n",
    "    iterator = iter(iterable)\n",
    "    for item in iterator:\n",
    "        if not item == strip_value:\n",
    "            yield item\n",
    "            break\n",
    "            \n",
    "    for item in iterator:\n",
    "        yield item\n"
   ]
  },
  {
   "cell_type": "code",
   "execution_count": 7,
   "metadata": {
    "collapsed": false
   },
   "outputs": [
    {
     "name": "stderr",
     "output_type": "stream",
     "text": [
      ".x.......\n",
      "----------------------------------------------------------------------\n",
      "Ran 9 tests in 0.003s\n",
      "\n",
      "OK (expected failures=1)\n"
     ]
    }
   ],
   "source": [
    "import unittest\n",
    "\n",
    "class LStripTests(unittest.TestCase):\n",
    "\n",
    "    \"\"\"Tests for lstrip.\"\"\"\n",
    "\n",
    "    def assertIterableEqual(self, iterable1, iterable2):\n",
    "        self.assertEqual(list(iterable1), list(iterable2))\n",
    "\n",
    "    def test_list(self):\n",
    "        self.assertIterableEqual(lstrip([1, 1, 2, 3], 1), [2, 3])\n",
    "\n",
    "    def test_nothing_to_strip(self):\n",
    "        self.assertIterableEqual(lstrip([1, 2, 3], 0), [1, 2, 3])\n",
    "\n",
    "    def test_string(self):\n",
    "        self.assertIterableEqual(lstrip('  hello', ' '), 'hello')\n",
    "\n",
    "    def test_empty_iterable(self):\n",
    "        self.assertIterableEqual(lstrip([], 1), [])\n",
    "\n",
    "    def test_strip_all(self):\n",
    "        self.assertIterableEqual(lstrip([1, 1, 1], 1), [])\n",
    "\n",
    "    def test_none_values(self):\n",
    "        self.assertIterableEqual(lstrip([None, 1, 2, 3], 0), [None, 1, 2, 3])\n",
    "\n",
    "    def test_iterator(self):\n",
    "        squares = (n**2 for n in [0, 0, 1, 2, 3])\n",
    "        self.assertIterableEqual(lstrip(squares, 0), [1, 4, 9])\n",
    "\n",
    "    # To test the Bonus part of this exercise, comment out the following line\n",
    "    # @unittest.expectedFailure\n",
    "    def test_returns_iterator(self):\n",
    "        stripped = lstrip((1, 2, 3), 1)\n",
    "        self.assertEqual(iter(stripped), iter(stripped))\n",
    "\n",
    "    # To test the Bonus part of this exercise, comment out the following line\n",
    "    @unittest.expectedFailure\n",
    "    def test_function_given(self):\n",
    "        numbers = [0, 2, 4, 1, 3, 5, 6]\n",
    "        def is_even(n): return n % 2 == 0\n",
    "        self.assertIterableEqual(lstrip(numbers, is_even), [1, 3, 5, 6])\n",
    "\n",
    "\n",
    "if __name__ == \"__main__\":\n",
    "    unittest.main(argv=['ignore-first-arg'], exit=False)"
   ]
  },
  {
   "cell_type": "markdown",
   "metadata": {},
   "source": [
    "#### Experiments : Testing iterator"
   ]
  },
  {
   "cell_type": "code",
   "execution_count": 9,
   "metadata": {
    "collapsed": false
   },
   "outputs": [
    {
     "data": {
      "text/plain": [
       "False"
      ]
     },
     "execution_count": 9,
     "metadata": {},
     "output_type": "execute_result"
    }
   ],
   "source": [
    "my_list = [1, 2, 3, 4]\n",
    "iterator1 = iter(my_list)\n",
    "iterator2 = iter(my_list)\n",
    "iterator1 == iterator2"
   ]
  },
  {
   "cell_type": "code",
   "execution_count": 11,
   "metadata": {
    "collapsed": false
   },
   "outputs": [
    {
     "data": {
      "text/plain": [
       "True"
      ]
     },
     "execution_count": 11,
     "metadata": {},
     "output_type": "execute_result"
    }
   ],
   "source": [
    "my_list = [1, 2, 3, 4]\n",
    "iterator = iter(my_list)\n",
    "iterator1 = iter(iterator)\n",
    "iterator2 = iter(iterator)\n",
    "iterator1 == iterator2"
   ]
  },
  {
   "cell_type": "markdown",
   "metadata": {},
   "source": [
    "## Bonus2: We're supposed to optionally accept a function as our strip value and call that function to determine whether values should be removed"
   ]
  },
  {
   "cell_type": "code",
   "execution_count": 1,
   "metadata": {
    "collapsed": true
   },
   "outputs": [],
   "source": [
    "def lstrip(iterable, strip_value):\n",
    "    \"\"\"Return iterable with strip_value items removed from beginning.\"\"\"\n",
    "    iterator = iter(iterable)\n",
    "    for item in iterator:\n",
    "        if (callable(strip_value) and not strip_value(item)\n",
    "                or item != strip_value):\n",
    "            yield item\n",
    "            break\n",
    "    for item in iterator:\n",
    "        yield item"
   ]
  },
  {
   "cell_type": "code",
   "execution_count": 2,
   "metadata": {
    "collapsed": false
   },
   "outputs": [
    {
     "name": "stderr",
     "output_type": "stream",
     "text": [
      ".F.......\n",
      "======================================================================\n",
      "FAIL: test_function_given (__main__.LStripTests)\n",
      "----------------------------------------------------------------------\n",
      "Traceback (most recent call last):\n",
      "  File \"<ipython-input-2-1549a645be69>\", line 43, in test_function_given\n",
      "    self.assertIterableEqual(lstrip(numbers, is_even), [1, 3, 5, 6])\n",
      "  File \"<ipython-input-2-1549a645be69>\", line 8, in assertIterableEqual\n",
      "    self.assertEqual(list(iterable1), list(iterable2))\n",
      "AssertionError: Lists differ: [0, 2, 4, 1, 3, 5, 6] != [1, 3, 5, 6]\n",
      "\n",
      "First differing element 0:\n",
      "0\n",
      "1\n",
      "\n",
      "First list contains 3 additional elements.\n",
      "First extra element 4:\n",
      "3\n",
      "\n",
      "- [0, 2, 4, 1, 3, 5, 6]\n",
      "+ [1, 3, 5, 6]\n",
      "\n",
      "----------------------------------------------------------------------\n",
      "Ran 9 tests in 0.004s\n",
      "\n",
      "FAILED (failures=1)\n"
     ]
    }
   ],
   "source": [
    "import unittest\n",
    "\n",
    "class LStripTests(unittest.TestCase):\n",
    "\n",
    "    \"\"\"Tests for lstrip.\"\"\"\n",
    "\n",
    "    def assertIterableEqual(self, iterable1, iterable2):\n",
    "        self.assertEqual(list(iterable1), list(iterable2))\n",
    "\n",
    "    def test_list(self):\n",
    "        self.assertIterableEqual(lstrip([1, 1, 2, 3], 1), [2, 3])\n",
    "\n",
    "    def test_nothing_to_strip(self):\n",
    "        self.assertIterableEqual(lstrip([1, 2, 3], 0), [1, 2, 3])\n",
    "\n",
    "    def test_string(self):\n",
    "        self.assertIterableEqual(lstrip('  hello', ' '), 'hello')\n",
    "\n",
    "    def test_empty_iterable(self):\n",
    "        self.assertIterableEqual(lstrip([], 1), [])\n",
    "\n",
    "    def test_strip_all(self):\n",
    "        self.assertIterableEqual(lstrip([1, 1, 1], 1), [])\n",
    "\n",
    "    def test_none_values(self):\n",
    "        self.assertIterableEqual(lstrip([None, 1, 2, 3], 0), [None, 1, 2, 3])\n",
    "\n",
    "    def test_iterator(self):\n",
    "        squares = (n**2 for n in [0, 0, 1, 2, 3])\n",
    "        self.assertIterableEqual(lstrip(squares, 0), [1, 4, 9])\n",
    "\n",
    "    # To test the Bonus part of this exercise, comment out the following line\n",
    "    # @unittest.expectedFailure\n",
    "    def test_returns_iterator(self):\n",
    "        stripped = lstrip((1, 2, 3), 1)\n",
    "        self.assertEqual(iter(stripped), iter(stripped))\n",
    "\n",
    "    # To test the Bonus part of this exercise, comment out the following line\n",
    "    # @unittest.expectedFailure\n",
    "    def test_function_given(self):\n",
    "        numbers = [0, 2, 4, 1, 3, 5, 6]\n",
    "        def is_even(n): return n % 2 == 0\n",
    "        self.assertIterableEqual(lstrip(numbers, is_even), [1, 3, 5, 6])\n",
    "\n",
    "\n",
    "if __name__ == \"__main__\":\n",
    "    unittest.main(argv=['ignore-first-arg'], exit=False)"
   ]
  },
  {
   "cell_type": "code",
   "execution_count": 14,
   "metadata": {
    "collapsed": false
   },
   "outputs": [],
   "source": [
    "def lstrip(iterable, strip_value):\n",
    "    \"\"\"Return iterable with strip_value items removed from beginning.\"\"\"\n",
    "    iterator = iter(iterable)\n",
    "    if callable(strip_value):\n",
    "        predicate = strip_value\n",
    "    else:\n",
    "        def predicate(value): return value == strip_value\n",
    "        \n",
    "    for item in iterator:\n",
    "        if not predicate(item):\n",
    "            yield item\n",
    "            break\n",
    "    for item in iterator:\n",
    "        yield item"
   ]
  },
  {
   "cell_type": "code",
   "execution_count": 15,
   "metadata": {
    "collapsed": false
   },
   "outputs": [
    {
     "name": "stderr",
     "output_type": "stream",
     "text": [
      ".........\n",
      "----------------------------------------------------------------------\n",
      "Ran 9 tests in 0.015s\n",
      "\n",
      "OK\n"
     ]
    }
   ],
   "source": [
    "import unittest\n",
    "\n",
    "class LStripTests(unittest.TestCase):\n",
    "\n",
    "    \"\"\"Tests for lstrip.\"\"\"\n",
    "\n",
    "    def assertIterableEqual(self, iterable1, iterable2):\n",
    "        self.assertEqual(list(iterable1), list(iterable2))\n",
    "\n",
    "    def test_list(self):\n",
    "        self.assertIterableEqual(lstrip([1, 1, 2, 3], 1), [2, 3])\n",
    "\n",
    "    def test_nothing_to_strip(self):\n",
    "        self.assertIterableEqual(lstrip([1, 2, 3], 0), [1, 2, 3])\n",
    "\n",
    "    def test_string(self):\n",
    "        self.assertIterableEqual(lstrip('  hello', ' '), 'hello')\n",
    "\n",
    "    def test_empty_iterable(self):\n",
    "        self.assertIterableEqual(lstrip([], 1), [])\n",
    "\n",
    "    def test_strip_all(self):\n",
    "        self.assertIterableEqual(lstrip([1, 1, 1], 1), [])\n",
    "\n",
    "    def test_none_values(self):\n",
    "        self.assertIterableEqual(lstrip([None, 1, 2, 3], 0), [None, 1, 2, 3])\n",
    "\n",
    "    def test_iterator(self):\n",
    "        squares = (n**2 for n in [0, 0, 1, 2, 3])\n",
    "        self.assertIterableEqual(lstrip(squares, 0), [1, 4, 9])\n",
    "\n",
    "    # To test the Bonus part of this exercise, comment out the following line\n",
    "    # @unittest.expectedFailure\n",
    "    def test_returns_iterator(self):\n",
    "        stripped = lstrip((1, 2, 3), 1)\n",
    "        self.assertEqual(iter(stripped), iter(stripped))\n",
    "\n",
    "    # To test the Bonus part of this exercise, comment out the following line\n",
    "    # @unittest.expectedFailure\n",
    "    def test_function_given(self):\n",
    "        numbers = [0, 2, 4, 1, 3, 5, 6]\n",
    "        def is_even(n): return n % 2 == 0\n",
    "        self.assertIterableEqual(lstrip(numbers, is_even), [1, 3, 5, 6])\n",
    "\n",
    "\n",
    "if __name__ == \"__main__\":\n",
    "    unittest.main(argv=['ignore-first-arg'], exit=False)"
   ]
  },
  {
   "cell_type": "markdown",
   "metadata": {
    "collapsed": true
   },
   "source": [
    "# Using dropwhile helper function in itertools module\n",
    "# ========================================\n",
    "##  The dropwhile function in the itertools module will give us an iterable that has our original iterable's values except it drops any at the beginning that pass a certain test."
   ]
  },
  {
   "cell_type": "markdown",
   "metadata": {},
   "source": [
    "### Bonus1: The lstrip function should return an iterator"
   ]
  },
  {
   "cell_type": "code",
   "execution_count": 1,
   "metadata": {
    "collapsed": true
   },
   "outputs": [],
   "source": [
    "from itertools import dropwhile\n",
    "def lstrip(iterable, strip_value):\n",
    "    \"\"\"Return iterable with strip_value items removed from beginning.\"\"\"\n",
    "    def is_strip_value(item): return item == strip_value\n",
    "    \n",
    "    return dropwhile(is_strip_value, iterable)"
   ]
  },
  {
   "cell_type": "code",
   "execution_count": 2,
   "metadata": {
    "collapsed": false
   },
   "outputs": [
    {
     "name": "stderr",
     "output_type": "stream",
     "text": [
      ".x.......\n",
      "----------------------------------------------------------------------\n",
      "Ran 9 tests in 0.007s\n",
      "\n",
      "OK (expected failures=1)\n"
     ]
    }
   ],
   "source": [
    "import unittest\n",
    "\n",
    "class LStripTests(unittest.TestCase):\n",
    "\n",
    "    \"\"\"Tests for lstrip.\"\"\"\n",
    "\n",
    "    def assertIterableEqual(self, iterable1, iterable2):\n",
    "        self.assertEqual(list(iterable1), list(iterable2))\n",
    "\n",
    "    def test_list(self):\n",
    "        self.assertIterableEqual(lstrip([1, 1, 2, 3], 1), [2, 3])\n",
    "\n",
    "    def test_nothing_to_strip(self):\n",
    "        self.assertIterableEqual(lstrip([1, 2, 3], 0), [1, 2, 3])\n",
    "\n",
    "    def test_string(self):\n",
    "        self.assertIterableEqual(lstrip('  hello', ' '), 'hello')\n",
    "\n",
    "    def test_empty_iterable(self):\n",
    "        self.assertIterableEqual(lstrip([], 1), [])\n",
    "\n",
    "    def test_strip_all(self):\n",
    "        self.assertIterableEqual(lstrip([1, 1, 1], 1), [])\n",
    "\n",
    "    def test_none_values(self):\n",
    "        self.assertIterableEqual(lstrip([None, 1, 2, 3], 0), [None, 1, 2, 3])\n",
    "\n",
    "    def test_iterator(self):\n",
    "        squares = (n**2 for n in [0, 0, 1, 2, 3])\n",
    "        self.assertIterableEqual(lstrip(squares, 0), [1, 4, 9])\n",
    "\n",
    "    # To test the Bonus part of this exercise, comment out the following line\n",
    "    # @unittest.expectedFailure\n",
    "    def test_returns_iterator(self):\n",
    "        stripped = lstrip((1, 2, 3), 1)\n",
    "        self.assertEqual(iter(stripped), iter(stripped))\n",
    "\n",
    "    # To test the Bonus part of this exercise, comment out the following line\n",
    "    @unittest.expectedFailure\n",
    "    def test_function_given(self):\n",
    "        numbers = [0, 2, 4, 1, 3, 5, 6]\n",
    "        def is_even(n): return n % 2 == 0\n",
    "        self.assertIterableEqual(lstrip(numbers, is_even), [1, 3, 5, 6])\n",
    "\n",
    "\n",
    "if __name__ == \"__main__\":\n",
    "    unittest.main(argv=['ignore-first-arg'], exit=False)"
   ]
  },
  {
   "cell_type": "markdown",
   "metadata": {},
   "source": [
    "### Bonus2: We're supposed to optionally accept a function as our strip value and call that function to determine whether values should be removed"
   ]
  },
  {
   "cell_type": "code",
   "execution_count": 3,
   "metadata": {
    "collapsed": true
   },
   "outputs": [],
   "source": [
    "from itertools import dropwhile\n",
    "def lstrip(iterable, strip_value):\n",
    "    \"\"\"Return iterable with strip_value items removed from beginning.\"\"\"\n",
    "    if callable(strip_value):\n",
    "        predicate = strip_value\n",
    "    else:\n",
    "        def predicate(item): return item == strip_value\n",
    "        \n",
    "    return dropwhile(predicate, iterable)"
   ]
  },
  {
   "cell_type": "code",
   "execution_count": 4,
   "metadata": {
    "collapsed": false
   },
   "outputs": [
    {
     "name": "stderr",
     "output_type": "stream",
     "text": [
      ".........\n",
      "----------------------------------------------------------------------\n",
      "Ran 9 tests in 0.003s\n",
      "\n",
      "OK\n"
     ]
    }
   ],
   "source": [
    "import unittest\n",
    "\n",
    "class LStripTests(unittest.TestCase):\n",
    "\n",
    "    \"\"\"Tests for lstrip.\"\"\"\n",
    "\n",
    "    def assertIterableEqual(self, iterable1, iterable2):\n",
    "        self.assertEqual(list(iterable1), list(iterable2))\n",
    "\n",
    "    def test_list(self):\n",
    "        self.assertIterableEqual(lstrip([1, 1, 2, 3], 1), [2, 3])\n",
    "\n",
    "    def test_nothing_to_strip(self):\n",
    "        self.assertIterableEqual(lstrip([1, 2, 3], 0), [1, 2, 3])\n",
    "\n",
    "    def test_string(self):\n",
    "        self.assertIterableEqual(lstrip('  hello', ' '), 'hello')\n",
    "\n",
    "    def test_empty_iterable(self):\n",
    "        self.assertIterableEqual(lstrip([], 1), [])\n",
    "\n",
    "    def test_strip_all(self):\n",
    "        self.assertIterableEqual(lstrip([1, 1, 1], 1), [])\n",
    "\n",
    "    def test_none_values(self):\n",
    "        self.assertIterableEqual(lstrip([None, 1, 2, 3], 0), [None, 1, 2, 3])\n",
    "\n",
    "    def test_iterator(self):\n",
    "        squares = (n**2 for n in [0, 0, 1, 2, 3])\n",
    "        self.assertIterableEqual(lstrip(squares, 0), [1, 4, 9])\n",
    "\n",
    "    # To test the Bonus part of this exercise, comment out the following line\n",
    "    # @unittest.expectedFailure\n",
    "    def test_returns_iterator(self):\n",
    "        stripped = lstrip((1, 2, 3), 1)\n",
    "        self.assertEqual(iter(stripped), iter(stripped))\n",
    "\n",
    "    # To test the Bonus part of this exercise, comment out the following line\n",
    "    # @unittest.expectedFailure\n",
    "    def test_function_given(self):\n",
    "        numbers = [0, 2, 4, 1, 3, 5, 6]\n",
    "        def is_even(n): return n % 2 == 0\n",
    "        self.assertIterableEqual(lstrip(numbers, is_even), [1, 3, 5, 6])\n",
    "\n",
    "\n",
    "if __name__ == \"__main__\":\n",
    "    unittest.main(argv=['ignore-first-arg'], exit=False)"
   ]
  },
  {
   "cell_type": "code",
   "execution_count": null,
   "metadata": {
    "collapsed": true
   },
   "outputs": [],
   "source": []
  }
 ],
 "metadata": {
  "kernelspec": {
   "display_name": "Python 3",
   "language": "python",
   "name": "python3"
  },
  "language_info": {
   "codemirror_mode": {
    "name": "ipython",
    "version": 3
   },
   "file_extension": ".py",
   "mimetype": "text/x-python",
   "name": "python",
   "nbconvert_exporter": "python",
   "pygments_lexer": "ipython3",
   "version": "3.5.2"
  }
 },
 "nbformat": 4,
 "nbformat_minor": 0
}
