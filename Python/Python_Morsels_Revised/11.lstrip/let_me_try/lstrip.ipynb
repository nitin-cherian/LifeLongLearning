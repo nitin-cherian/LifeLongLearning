{
 "cells": [
  {
   "cell_type": "code",
   "execution_count": 1,
   "metadata": {
    "collapsed": true
   },
   "outputs": [],
   "source": [
    "def lstrip(iterable, obj):\n",
    "    stripped = []\n",
    "    stop = False\n",
    "    \n",
    "    for item in iterable:\n",
    "        if stop:\n",
    "            stripped.append(item)\n",
    "        elif item != obj:\n",
    "            stripped.append(item)\n",
    "            stop = True\n",
    "            \n",
    "    return stripped\n",
    "            "
   ]
  },
  {
   "cell_type": "code",
   "execution_count": 2,
   "metadata": {
    "collapsed": false
   },
   "outputs": [
    {
     "data": {
      "text/plain": [
       "[1, 0, 2, 3]"
      ]
     },
     "execution_count": 2,
     "metadata": {},
     "output_type": "execute_result"
    }
   ],
   "source": [
    "lstrip([0, 0, 1, 0, 2, 3], 0)"
   ]
  },
  {
   "cell_type": "code",
   "execution_count": 3,
   "metadata": {
    "collapsed": false
   },
   "outputs": [
    {
     "data": {
      "text/plain": [
       "['h', 'e', 'l', 'l', 'o', ' ']"
      ]
     },
     "execution_count": 3,
     "metadata": {},
     "output_type": "execute_result"
    }
   ],
   "source": [
    "lstrip('  hello ', ' ')"
   ]
  },
  {
   "cell_type": "markdown",
   "metadata": {},
   "source": [
    "## Bonus1: return an iterator (for example a generator) from your lstrip function instead of a list. "
   ]
  },
  {
   "cell_type": "code",
   "execution_count": 8,
   "metadata": {
    "collapsed": true
   },
   "outputs": [],
   "source": [
    "def lstrip(iterable, obj):\n",
    "    stop = False    \n",
    "    for item in iterable:\n",
    "        if stop:\n",
    "            yield item\n",
    "        elif item != obj:\n",
    "            yield item\n",
    "            stop = True          \n",
    "   "
   ]
  },
  {
   "cell_type": "code",
   "execution_count": 12,
   "metadata": {
    "collapsed": true
   },
   "outputs": [],
   "source": [
    "x = lstrip([0, 1, 2, 3, 0], 0)"
   ]
  },
  {
   "cell_type": "code",
   "execution_count": 13,
   "metadata": {
    "collapsed": false
   },
   "outputs": [
    {
     "data": {
      "text/plain": [
       "<generator object lstrip at 0x0000000004814A40>"
      ]
     },
     "execution_count": 13,
     "metadata": {},
     "output_type": "execute_result"
    }
   ],
   "source": [
    "x"
   ]
  },
  {
   "cell_type": "code",
   "execution_count": 14,
   "metadata": {
    "collapsed": false
   },
   "outputs": [
    {
     "data": {
      "text/plain": [
       "[1, 2, 3, 0]"
      ]
     },
     "execution_count": 14,
     "metadata": {},
     "output_type": "execute_result"
    }
   ],
   "source": [
    "list(x)"
   ]
  },
  {
   "cell_type": "markdown",
   "metadata": {},
   "source": [
    "## Bonus2: allow your lstrip function to accept a function as its second argument which will determine whether the item should be stripped"
   ]
  },
  {
   "cell_type": "code",
   "execution_count": 59,
   "metadata": {
    "collapsed": true
   },
   "outputs": [],
   "source": [
    "def lstrip(iterable, obj):\n",
    "    lstrip_stop = False    \n",
    "    for item in iterable:\n",
    "        if lstrip_stop:\n",
    "            yield item\n",
    "        else: \n",
    "            if not callable(obj):\n",
    "                if item != obj:\n",
    "                    yield item\n",
    "                    lstrip_stop = True\n",
    "            else:\n",
    "                if not obj(item):\n",
    "                    yield item\n",
    "                    lstrip_stop = True\n",
    "                    "
   ]
  },
  {
   "cell_type": "code",
   "execution_count": 48,
   "metadata": {
    "collapsed": false
   },
   "outputs": [],
   "source": [
    "def is_falsey(value): return not bool(value)"
   ]
  },
  {
   "cell_type": "code",
   "execution_count": 49,
   "metadata": {
    "collapsed": false
   },
   "outputs": [
    {
     "data": {
      "text/plain": [
       "[1, 0, 2, 'h', '']"
      ]
     },
     "execution_count": 49,
     "metadata": {},
     "output_type": "execute_result"
    }
   ],
   "source": [
    "list(lstrip(['', 0, 1, 0, 2, 'h', ''], is_falsey))"
   ]
  },
  {
   "cell_type": "code",
   "execution_count": 50,
   "metadata": {
    "collapsed": false
   },
   "outputs": [
    {
     "data": {
      "text/plain": [
       "[2, 4, -6]"
      ]
     },
     "execution_count": 50,
     "metadata": {},
     "output_type": "execute_result"
    }
   ],
   "source": [
    "list(lstrip([-4, -2, 2, 4, -6], lambda n: n < 0))"
   ]
  },
  {
   "cell_type": "code",
   "execution_count": 51,
   "metadata": {
    "collapsed": true
   },
   "outputs": [],
   "source": [
    "numbers = [0, 2, 4, 1, 3, 5, 6]"
   ]
  },
  {
   "cell_type": "code",
   "execution_count": 52,
   "metadata": {
    "collapsed": true
   },
   "outputs": [],
   "source": [
    "def is_even(n): return n % 2 == 0"
   ]
  },
  {
   "cell_type": "code",
   "execution_count": 53,
   "metadata": {
    "collapsed": false
   },
   "outputs": [
    {
     "data": {
      "text/plain": [
       "[1, 3, 5, 6]"
      ]
     },
     "execution_count": 53,
     "metadata": {},
     "output_type": "execute_result"
    }
   ],
   "source": [
    "list(lstrip(numbers, is_even))"
   ]
  },
  {
   "cell_type": "code",
   "execution_count": 54,
   "metadata": {
    "collapsed": false
   },
   "outputs": [
    {
     "data": {
      "text/plain": [
       "[1, 0, 2, 3]"
      ]
     },
     "execution_count": 54,
     "metadata": {},
     "output_type": "execute_result"
    }
   ],
   "source": [
    "list(lstrip([0, 0, 1, 0, 2, 3], 0))"
   ]
  },
  {
   "cell_type": "code",
   "execution_count": 55,
   "metadata": {
    "collapsed": false
   },
   "outputs": [
    {
     "data": {
      "text/plain": [
       "['h', 'e', 'l', 'l', 'o', ' ']"
      ]
     },
     "execution_count": 55,
     "metadata": {},
     "output_type": "execute_result"
    }
   ],
   "source": [
    "list(lstrip('  hello ', ' '))"
   ]
  },
  {
   "cell_type": "markdown",
   "metadata": {},
   "source": [
    "# Unit Tests"
   ]
  },
  {
   "cell_type": "code",
   "execution_count": 60,
   "metadata": {
    "collapsed": false
   },
   "outputs": [
    {
     "name": "stderr",
     "output_type": "stream",
     "text": [
      ".........\n",
      "----------------------------------------------------------------------\n",
      "Ran 9 tests in 0.004s\n",
      "\n",
      "OK\n"
     ]
    }
   ],
   "source": [
    "import unittest\n",
    "\n",
    "class LStripTests(unittest.TestCase):\n",
    "\n",
    "    \"\"\"Tests for lstrip.\"\"\"\n",
    "\n",
    "    def assertIterableEqual(self, iterable1, iterable2):\n",
    "        self.assertEqual(list(iterable1), list(iterable2))\n",
    "\n",
    "    def test_list(self):\n",
    "        self.assertIterableEqual(lstrip([1, 1, 2, 3], 1), [2, 3])\n",
    "\n",
    "    def test_nothing_to_strip(self):\n",
    "        self.assertIterableEqual(lstrip([1, 2, 3], 0), [1, 2, 3])\n",
    "\n",
    "    def test_string(self):\n",
    "        self.assertIterableEqual(lstrip('  hello', ' '), 'hello')\n",
    "\n",
    "    def test_empty_iterable(self):\n",
    "        self.assertIterableEqual(lstrip([], 1), [])\n",
    "\n",
    "    def test_strip_all(self):\n",
    "        self.assertIterableEqual(lstrip([1, 1, 1], 1), [])\n",
    "\n",
    "    def test_none_values(self):\n",
    "        self.assertIterableEqual(lstrip([None, 1, 2, 3], 0), [None, 1, 2, 3])\n",
    "\n",
    "    def test_iterator(self):\n",
    "        squares = (n**2 for n in [0, 0, 1, 2, 3])\n",
    "        self.assertIterableEqual(lstrip(squares, 0), [1, 4, 9])\n",
    "\n",
    "    # To test the Bonus part of this exercise, comment out the following line\n",
    "    # @unittest.expectedFailure\n",
    "    def test_returns_iterator(self):\n",
    "        stripped = lstrip((1, 2, 3), 1)\n",
    "        self.assertEqual(iter(stripped), iter(stripped))\n",
    "\n",
    "    # To test the Bonus part of this exercise, comment out the following line\n",
    "    # @unittest.expectedFailure\n",
    "    def test_function_given(self):\n",
    "        numbers = [0, 2, 4, 1, 3, 5, 6]\n",
    "        def is_even(n): return n % 2 == 0\n",
    "        self.assertIterableEqual(lstrip(numbers, is_even), [1, 3, 5, 6])\n",
    "\n",
    "\n",
    "if __name__ == \"__main__\":\n",
    "    unittest.main(argv=['ignore-first-arg'], exit=False)"
   ]
  }
 ],
 "metadata": {
  "kernelspec": {
   "display_name": "Python 3",
   "language": "python",
   "name": "python3"
  },
  "language_info": {
   "codemirror_mode": {
    "name": "ipython",
    "version": 3
   },
   "file_extension": ".py",
   "mimetype": "text/x-python",
   "name": "python",
   "nbconvert_exporter": "python",
   "pygments_lexer": "ipython3",
   "version": "3.5.2"
  }
 },
 "nbformat": 4,
 "nbformat_minor": 0
}
