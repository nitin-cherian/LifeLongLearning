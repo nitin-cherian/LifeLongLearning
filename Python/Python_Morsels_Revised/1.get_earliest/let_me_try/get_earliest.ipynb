{
 "cells": [
  {
   "cell_type": "code",
   "execution_count": 15,
   "metadata": {
    "collapsed": true
   },
   "outputs": [],
   "source": [
    "def get_earliest(date1, date2):\n",
    "    \"\"\"\n",
    "    Returns the earlist of the two dates.\n",
    "    \"\"\"\n",
    "    month1, day1, year1 = date1.split(\"/\")\n",
    "    month2, day2, year2 = date2.split(\"/\")\n",
    "\n",
    "    return date1 if (year1, month1, day1) < (year2, month2, day2) else date2 "
   ]
  },
  {
   "cell_type": "code",
   "execution_count": 16,
   "metadata": {
    "collapsed": false
   },
   "outputs": [
    {
     "name": "stderr",
     "output_type": "stream",
     "text": [
      "..x....\n",
      "----------------------------------------------------------------------\n",
      "Ran 7 tests in 0.003s\n",
      "\n",
      "OK (expected failures=1)\n"
     ]
    }
   ],
   "source": [
    "import unittest\n",
    "\n",
    "class GetEarliestTests(unittest.TestCase):\n",
    "\n",
    "    \"\"\"Tests for get_earliest.\"\"\"\n",
    "\n",
    "    def test_same_month_and_day(self):\n",
    "        newer = \"01/27/1832\"\n",
    "        older = \"01/27/1756\"\n",
    "        self.assertEqual(get_earliest(newer, older), older)\n",
    "\n",
    "    def test_february_29th(self):\n",
    "        newer = \"02/29/1972\"\n",
    "        older = \"12/21/1946\"\n",
    "        self.assertEqual(get_earliest(newer, older), older)\n",
    "\n",
    "    def test_smaller_month_bigger_day(self):\n",
    "        newer = \"03/21/1946\"\n",
    "        older = \"02/24/1946\"\n",
    "        self.assertEqual(get_earliest(older, newer), older)\n",
    "\n",
    "    def test_same_month_and_year(self):\n",
    "        newer = \"06/24/1958\"\n",
    "        older = \"06/21/1958\"\n",
    "        self.assertEqual(get_earliest(older, newer), older)\n",
    "\n",
    "    def test_invalid_date_allowed(self):\n",
    "        newer = \"02/29/2006\"\n",
    "        older = \"02/28/2006\"\n",
    "        self.assertEqual(get_earliest(older, newer), older)\n",
    "\n",
    "    def test_two_invalid_dates(self):\n",
    "        newer = \"02/30/2006\"\n",
    "        older = \"02/29/2006\"\n",
    "        self.assertEqual(get_earliest(newer, older), older)\n",
    "\n",
    "    # To test the Bonus part of this exercise, comment out the following line\n",
    "    @unittest.expectedFailure\n",
    "    def test_many_dates(self):\n",
    "        d1 = \"01/24/2007\"\n",
    "        d2 = \"01/21/2008\"\n",
    "        d3 = \"02/29/2009\"\n",
    "        d4 = \"02/30/2006\"\n",
    "        d5 = \"02/28/2006\"\n",
    "        d6 = \"02/29/2006\"\n",
    "        self.assertEqual(get_earliest(d1, d2, d3), d1)\n",
    "        self.assertEqual(get_earliest(d1, d2, d3, d4), d4)\n",
    "        self.assertEqual(get_earliest(d1, d2, d3, d4, d5, d6), d5)\n",
    "\n",
    "\n",
    "if __name__ == \"__main__\":\n",
    "    unittest.main(argv=['ignore-first-argument'], exit=False)"
   ]
  },
  {
   "cell_type": "code",
   "execution_count": 24,
   "metadata": {
    "collapsed": true
   },
   "outputs": [],
   "source": [
    "def get_earliest(*dates):\n",
    "    \"\"\"\n",
    "    Returns the earlist of the given dates.\n",
    "    \"\"\"\n",
    "    older = None\n",
    "    for date in dates:\n",
    "        month, day, year = date.split(\"/\")\n",
    "        if older is None:\n",
    "            older = year, month, day\n",
    "        else:\n",
    "            older = older if older < (year, month, day) else (year, month, day)\n",
    "\n",
    "    year, month, day = older \n",
    "    return \"/\".join((month, day, year))"
   ]
  },
  {
   "cell_type": "code",
   "execution_count": 25,
   "metadata": {
    "collapsed": false
   },
   "outputs": [
    {
     "name": "stderr",
     "output_type": "stream",
     "text": [
      ".......\n",
      "----------------------------------------------------------------------\n",
      "Ran 7 tests in 0.007s\n",
      "\n",
      "OK\n"
     ]
    }
   ],
   "source": [
    "import unittest\n",
    "\n",
    "class GetEarliestTests(unittest.TestCase):\n",
    "\n",
    "    \"\"\"Tests for get_earliest.\"\"\"\n",
    "\n",
    "    def test_same_month_and_day(self):\n",
    "        newer = \"01/27/1832\"\n",
    "        older = \"01/27/1756\"\n",
    "        self.assertEqual(get_earliest(newer, older), older)\n",
    "\n",
    "    def test_february_29th(self):\n",
    "        newer = \"02/29/1972\"\n",
    "        older = \"12/21/1946\"\n",
    "        self.assertEqual(get_earliest(newer, older), older)\n",
    "\n",
    "    def test_smaller_month_bigger_day(self):\n",
    "        newer = \"03/21/1946\"\n",
    "        older = \"02/24/1946\"\n",
    "        self.assertEqual(get_earliest(older, newer), older)\n",
    "\n",
    "    def test_same_month_and_year(self):\n",
    "        newer = \"06/24/1958\"\n",
    "        older = \"06/21/1958\"\n",
    "        self.assertEqual(get_earliest(older, newer), older)\n",
    "\n",
    "    def test_invalid_date_allowed(self):\n",
    "        newer = \"02/29/2006\"\n",
    "        older = \"02/28/2006\"\n",
    "        self.assertEqual(get_earliest(older, newer), older)\n",
    "\n",
    "    def test_two_invalid_dates(self):\n",
    "        newer = \"02/30/2006\"\n",
    "        older = \"02/29/2006\"\n",
    "        self.assertEqual(get_earliest(newer, older), older)\n",
    "\n",
    "    # To test the Bonus part of this exercise, comment out the following line\n",
    "    # @unittest.expectedFailure\n",
    "    def test_many_dates(self):\n",
    "        d1 = \"01/24/2007\"\n",
    "        d2 = \"01/21/2008\"\n",
    "        d3 = \"02/29/2009\"\n",
    "        d4 = \"02/30/2006\"\n",
    "        d5 = \"02/28/2006\"\n",
    "        d6 = \"02/29/2006\"\n",
    "        self.assertEqual(get_earliest(d1, d2, d3), d1)\n",
    "        self.assertEqual(get_earliest(d1, d2, d3, d4), d4)\n",
    "        self.assertEqual(get_earliest(d1, d2, d3, d4, d5, d6), d5)\n",
    "\n",
    "\n",
    "if __name__ == \"__main__\":\n",
    "    unittest.main(argv=['ignore-first-argument'], exit=False)"
   ]
  },
  {
   "cell_type": "code",
   "execution_count": 1,
   "metadata": {
    "collapsed": true
   },
   "outputs": [],
   "source": [
    "def get_earliest(*dates):\n",
    "    \"\"\"\n",
    "    Returns the earlist of the given dates.\n",
    "    \"\"\"\n",
    "    return min(dates)"
   ]
  },
  {
   "cell_type": "code",
   "execution_count": 2,
   "metadata": {
    "collapsed": false
   },
   "outputs": [
    {
     "data": {
      "text/plain": [
       "'01/27/1756'"
      ]
     },
     "execution_count": 2,
     "metadata": {},
     "output_type": "execute_result"
    }
   ],
   "source": [
    "newer = \"01/27/1832\"\n",
    "older = \"01/27/1756\"\n",
    "get_earliest(newer, older)"
   ]
  },
  {
   "cell_type": "code",
   "execution_count": 3,
   "metadata": {
    "collapsed": false
   },
   "outputs": [
    {
     "data": {
      "text/plain": [
       "'02/29/1972'"
      ]
     },
     "execution_count": 3,
     "metadata": {},
     "output_type": "execute_result"
    }
   ],
   "source": [
    "newer = \"02/29/1972\"\n",
    "older = \"12/21/1946\"\n",
    "get_earliest(newer, older)"
   ]
  },
  {
   "cell_type": "code",
   "execution_count": 4,
   "metadata": {
    "collapsed": true
   },
   "outputs": [],
   "source": [
    "def get_earliest(*dates):\n",
    "    \"\"\"\n",
    "    Returns the earlist of the given dates.\n",
    "    \"\"\"\n",
    "    def date_key(date):\n",
    "        month, day, year = date.split(\"/\")\n",
    "        return year, month, day\n",
    "    return min(dates, key=date_key)"
   ]
  },
  {
   "cell_type": "code",
   "execution_count": 5,
   "metadata": {
    "collapsed": false
   },
   "outputs": [
    {
     "data": {
      "text/plain": [
       "'01/27/1756'"
      ]
     },
     "execution_count": 5,
     "metadata": {},
     "output_type": "execute_result"
    }
   ],
   "source": [
    "newer = \"01/27/1832\"\n",
    "older = \"01/27/1756\"\n",
    "get_earliest(newer, older)"
   ]
  },
  {
   "cell_type": "code",
   "execution_count": 6,
   "metadata": {
    "collapsed": false
   },
   "outputs": [
    {
     "data": {
      "text/plain": [
       "'12/21/1946'"
      ]
     },
     "execution_count": 6,
     "metadata": {},
     "output_type": "execute_result"
    }
   ],
   "source": [
    "newer = \"02/29/1972\"\n",
    "older = \"12/21/1946\"\n",
    "get_earliest(newer, older)"
   ]
  },
  {
   "cell_type": "code",
   "execution_count": 7,
   "metadata": {
    "collapsed": false
   },
   "outputs": [
    {
     "name": "stderr",
     "output_type": "stream",
     "text": [
      ".......\n",
      "----------------------------------------------------------------------\n",
      "Ran 7 tests in 0.012s\n",
      "\n",
      "OK\n"
     ]
    }
   ],
   "source": [
    "import unittest\n",
    "\n",
    "class GetEarliestTests(unittest.TestCase):\n",
    "\n",
    "    \"\"\"Tests for get_earliest.\"\"\"\n",
    "\n",
    "    def test_same_month_and_day(self):\n",
    "        newer = \"01/27/1832\"\n",
    "        older = \"01/27/1756\"\n",
    "        self.assertEqual(get_earliest(newer, older), older)\n",
    "\n",
    "    def test_february_29th(self):\n",
    "        newer = \"02/29/1972\"\n",
    "        older = \"12/21/1946\"\n",
    "        self.assertEqual(get_earliest(newer, older), older)\n",
    "\n",
    "    def test_smaller_month_bigger_day(self):\n",
    "        newer = \"03/21/1946\"\n",
    "        older = \"02/24/1946\"\n",
    "        self.assertEqual(get_earliest(older, newer), older)\n",
    "\n",
    "    def test_same_month_and_year(self):\n",
    "        newer = \"06/24/1958\"\n",
    "        older = \"06/21/1958\"\n",
    "        self.assertEqual(get_earliest(older, newer), older)\n",
    "\n",
    "    def test_invalid_date_allowed(self):\n",
    "        newer = \"02/29/2006\"\n",
    "        older = \"02/28/2006\"\n",
    "        self.assertEqual(get_earliest(older, newer), older)\n",
    "\n",
    "    def test_two_invalid_dates(self):\n",
    "        newer = \"02/30/2006\"\n",
    "        older = \"02/29/2006\"\n",
    "        self.assertEqual(get_earliest(newer, older), older)\n",
    "\n",
    "    # To test the Bonus part of this exercise, comment out the following line\n",
    "    # @unittest.expectedFailure\n",
    "    def test_many_dates(self):\n",
    "        d1 = \"01/24/2007\"\n",
    "        d2 = \"01/21/2008\"\n",
    "        d3 = \"02/29/2009\"\n",
    "        d4 = \"02/30/2006\"\n",
    "        d5 = \"02/28/2006\"\n",
    "        d6 = \"02/29/2006\"\n",
    "        self.assertEqual(get_earliest(d1, d2, d3), d1)\n",
    "        self.assertEqual(get_earliest(d1, d2, d3, d4), d4)\n",
    "        self.assertEqual(get_earliest(d1, d2, d3, d4, d5, d6), d5)\n",
    "\n",
    "\n",
    "if __name__ == \"__main__\":\n",
    "    unittest.main(argv=['ignore-first-argument'], exit=False)"
   ]
  },
  {
   "cell_type": "code",
   "execution_count": null,
   "metadata": {
    "collapsed": true
   },
   "outputs": [],
   "source": []
  }
 ],
 "metadata": {
  "kernelspec": {
   "display_name": "Python 3",
   "language": "python",
   "name": "python3"
  },
  "language_info": {
   "codemirror_mode": {
    "name": "ipython",
    "version": 3
   },
   "file_extension": ".py",
   "mimetype": "text/x-python",
   "name": "python",
   "nbconvert_exporter": "python",
   "pygments_lexer": "ipython3",
   "version": "3.5.2"
  }
 },
 "nbformat": 4,
 "nbformat_minor": 0
}
